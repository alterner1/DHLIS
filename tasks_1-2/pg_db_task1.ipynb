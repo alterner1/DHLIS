{
 "cells": [
  {
   "cell_type": "markdown",
   "metadata": {},
   "source": [
    "### Первичное создание и наполнение таблиц базы (с помощью psycopg)\n",
    "#### Несколько ниже тоже сделано с помощью sqlalchemy"
   ]
  },
  {
   "cell_type": "code",
   "execution_count": 8,
   "metadata": {},
   "outputs": [],
   "source": [
    "%%capture\n",
    "!pip install psycopg2 openai ipython-sql python-dotenv"
   ]
  },
  {
   "cell_type": "code",
   "execution_count": 28,
   "metadata": {},
   "outputs": [
    {
     "name": "stdout",
     "output_type": "stream",
     "text": [
      "Строка подключения успешно создана.\n"
     ]
    }
   ],
   "source": [
    "from dotenv import load_dotenv\n",
    "import os\n",
    "\n",
    "# Загрузка переменных окружения\n",
    "load_dotenv()\n",
    "\n",
    "# Получение значений из .env файла\n",
    "db_name = os.getenv(\"DB_NAME\")\n",
    "db_user = os.getenv(\"DB_USER\")\n",
    "db_password = os.getenv(\"DB_PASSWORD\")\n",
    "db_host = os.getenv(\"DB_HOST\")\n",
    "db_port = os.getenv(\"DB_PORT\")\n",
    "\n",
    "# Формирование строки подключения\n",
    "connection_string = f\"postgresql://{db_user}:{db_password}@{db_host}:{db_port}/{db_name}\"\n",
    "\n",
    "print(\"Строка подключения успешно создана.\")\n"
   ]
  },
  {
   "cell_type": "code",
   "execution_count": 30,
   "metadata": {},
   "outputs": [
    {
     "name": "stdout",
     "output_type": "stream",
     "text": [
      "(1, {'city': 'Москва', 'group': '101', 'hobbies': ['программирование', 'шахматы'], 'last_name': 'Иванов', 'birth_year': 1998, 'first_name': 'Иван', 'patronymic': 'Иванович'})\n",
      "(2, {'city': 'Санкт-Петербург', 'group': '102', 'hobbies': ['танцы', 'музыка'], 'last_name': 'Петров', 'birth_year': 1999, 'first_name': 'Петр', 'patronymic': 'Алексеевич'})\n",
      "(3, {'city': 'Архангельск', 'group': '103', 'hobbies': ['искусство', 'туризм'], 'last_name': 'Смирнова', 'birth_year': 2001, 'first_name': 'Ольга', 'patronymic': 'Алексеевна'})\n"
     ]
    }
   ],
   "source": [
    "import openai\n",
    "import psycopg2\n",
    "\n",
    "# Подключение к PostgreSQL\n",
    "conn = psycopg2.connect(connection_string)\n",
    "cursor = conn.cursor()\n",
    "\n",
    "# Тестовый запрос к базе данных\n",
    "cursor.execute(\"SELECT * FROM students;\")\n",
    "users = cursor.fetchall()\n",
    "for id in users:\n",
    "    print(id)\n",
    "\n",
    "# Закрытие соединения\n",
    "cursor.close()\n",
    "conn.close()\n"
   ]
  },
  {
   "cell_type": "code",
   "execution_count": null,
   "metadata": {},
   "outputs": [
    {
     "name": "stdout",
     "output_type": "stream",
     "text": [
      "Ошибка выполнения запроса: no schema has been selected to create in\n",
      "LINE 2: CREATE TABLE IF NOT EXISTS users (\n",
      "                                   ^\n",
      "\n"
     ]
    }
   ],
   "source": [
    "# Создание таблицы users\n",
    "import psycopg2\n",
    "conn = psycopg2.connect(connection_string)\n",
    "cursor = conn.cursor()\n",
    "create_table_query = \"\"\"\n",
    "CREATE TABLE IF NOT EXISTS users (\n",
    "    id SERIAL PRIMARY KEY,\n",
    "    first_name VARCHAR(50) NOT NULL,\n",
    "    last_name VARCHAR(50) NOT NULL,\n",
    "    patronymic VARCHAR(50),\n",
    "    birth_year INT CHECK (birth_year BETWEEN 1900 AND 2100),\n",
    "    city VARCHAR(100),\n",
    "    role VARCHAR(10) CHECK (role IN ('student', 'teacher')) NOT NULL\n",
    ");\n",
    "\"\"\"\n",
    "\n",
    "# Выполнение SQL-запроса\n",
    "try:\n",
    "    cursor.execute(create_table_query)\n",
    "    conn.commit()\n",
    "    print(\"Таблица 'users' успешно создана.\")\n",
    "except Exception as e:\n",
    "    print(f\"Ошибка выполнения запроса: {e}\")\n",
    "    \n",
    "cursor.close()\n",
    "conn.close()"
   ]
  },
  {
   "cell_type": "markdown",
   "metadata": {},
   "source": [
    "Таблица 'users' успешно создана.\n",
    "Структура таблицы 'users':\n",
    "('id', 'integer')\n",
    "('birth_year', 'integer')\n",
    "('last_name', 'character varying')\n",
    "('city', 'character varying')\n",
    "('role', 'character varying')\n",
    "('patronymic', 'character varying')\n",
    "('first_name', 'character varying')"
   ]
  },
  {
   "cell_type": "code",
   "execution_count": null,
   "metadata": {},
   "outputs": [],
   "source": [
    "import psycopg2\n",
    "conn = psycopg2.connect(connection_string)\n",
    "cursor = conn.cursor()\n",
    "create_tables_query = \"\"\"\n",
    "CREATE TABLE disciplines (\n",
    "    id SERIAL PRIMARY KEY,\n",
    "    name VARCHAR(100) NOT NULL,\n",
    "    description TEXT\n",
    ");\n",
    "\n",
    "-- Таблица расписания занятий\n",
    "CREATE TABLE sessions (\n",
    "    id SERIAL PRIMARY KEY,\n",
    "    discipline_id INT REFERENCES disciplines(id),\n",
    "    type VARCHAR(20) CHECK (type IN ('lecture', 'seminar', 'exam')) NOT NULL,\n",
    "    speaker_id INT REFERENCES users(id),\n",
    "    start_time TIMESTAMP NOT NULL,\n",
    "    end_time TIMESTAMP NOT NULL,\n",
    "    system VARCHAR(50),\n",
    "    room_id BIGINT\n",
    ");\n",
    "\n",
    "-- Таблица связей студентов с занятиями\n",
    "CREATE TABLE students_sessions (\n",
    "    id SERIAL PRIMARY KEY,\n",
    "    student_id INT REFERENCES users(id),\n",
    "    session_id INT REFERENCES sessions(id)\n",
    ");\n",
    "\n",
    "-- Таблица видеозаписей\n",
    "CREATE TABLE videos (\n",
    "    id SERIAL PRIMARY KEY,\n",
    "    session_id INT REFERENCES sessions(id),\n",
    "    file_path VARCHAR(255) NOT NULL,\n",
    "    upload_date TIMESTAMP DEFAULT CURRENT_TIMESTAMP\n",
    ");\n",
    "\n",
    "-- Таблица аннотаций видеозаписей\n",
    "CREATE TABLE video_annotations (\n",
    "    id SERIAL PRIMARY KEY,\n",
    "    video_id INT REFERENCES videos(id),\n",
    "    timestamp INTERVAL NOT NULL,\n",
    "    content TEXT\n",
    ");\n",
    "\n",
    "-- Таблица раздаточных материалов\n",
    "CREATE TABLE materials (\n",
    "    id SERIAL PRIMARY KEY,\n",
    "    session_id INT REFERENCES sessions(id),\n",
    "    file_path VARCHAR(255) NOT NULL,\n",
    "    upload_date TIMESTAMP DEFAULT CURRENT_TIMESTAMP\n",
    ");\n",
    "\n",
    "-- Таблица аннотаций материалов\n",
    "CREATE TABLE material_annotations (\n",
    "    id SERIAL PRIMARY KEY,\n",
    "    material_id INT REFERENCES materials(id),\n",
    "    page_number INT NOT NULL,\n",
    "    content TEXT\n",
    ");\n",
    "\"\"\"\n",
    "# Выполнение SQL-запроса\n",
    "try:\n",
    "    cursor.execute(create_tables_query)\n",
    "    conn.commit()\n",
    "    print(\"Таблицы успешно созданы.\")\n",
    "except Exception as e:\n",
    "    print(f\"Ошибка выполнения запроса: {e}\")\n",
    "\n",
    "cursor.close()\n",
    "conn.close()"
   ]
  },
  {
   "cell_type": "code",
   "execution_count": 8,
   "metadata": {},
   "outputs": [
    {
     "name": "stdout",
     "output_type": "stream",
     "text": [
      "Данные успешно добавлены.\n"
     ]
    }
   ],
   "source": [
    "\n",
    "import psycopg2\n",
    "conn = psycopg2.connect(connection_string)\n",
    "cursor = conn.cursor()\n",
    "# Добавление данных в таблицы users, disciplines, sessions\n",
    "insert_query = \"\"\"\n",
    "-- Наполнение таблицы users\n",
    "INSERT INTO users (first_name, last_name, patronymic, birth_year, city, role) VALUES\n",
    "('Иван', 'Иванов', 'Иванович', 1998, 'Москва', 'student'),\n",
    "('Петр', 'Петров', 'Петрович', 1985, 'Саранск', 'student'),\n",
    "('Игорь', 'Павлов', 'Алексеевич', 1975, 'Москва', 'teacher'),\n",
    "('Семен', 'Аристархов', 'Павлович', 1980, 'Санкт-Петербург', 'teacher'),\n",
    "('Иван', 'Иванов', 'Иванович', 1970, 'Новосибирск', 'teacher');\n",
    "\n",
    "-- Наполнение таблицы disciplines\n",
    "INSERT INTO disciplines (name, description) VALUES\n",
    "('Машинное обучение', 'Курс по основам машинного обучения'),\n",
    "('Проектирование ИС', 'Курс по проектированию информационных систем'),\n",
    "('Системы ERP', 'Курс по основам ERP-систем');\n",
    "\n",
    "-- Наполнение таблицы sessions\n",
    "INSERT INTO sessions (discipline_id, type, speaker_id, start_time, end_time, system, room_id) VALUES\n",
    "(1, 'lecture', 3, '2024-04-11 14:00', '2024-04-11 17:00', 'zoom', 230340930),\n",
    "(2, 'lecture', 4, '2024-04-12 19:00', '2024-04-12 20:40', 'zoom', 236740930),\n",
    "(3, 'exam', 5, '2024-04-13 18:00', '2024-04-13 21:00', 'zoom', 230340930);\n",
    "\"\"\"\n",
    "# Выполнение SQL-запроса\n",
    "try:\n",
    "    cursor.execute(insert_query)\n",
    "    conn.commit()\n",
    "    print(\"Данные успешно добавлены.\")\n",
    "except Exception as e:\n",
    "    print(f\"Ошибка выполнения запроса: {e}\")\n"
   ]
  },
  {
   "cell_type": "code",
   "execution_count": 4,
   "metadata": {},
   "outputs": [
    {
     "data": {
      "text/plain": [
       "[(1, 'Иван', 'Иванов', 'Иванович', 1998, 'Москва', 'student'),\n",
       " (2, 'Петр', 'Петров', 'Петрович', 1985, 'Саранск', 'student'),\n",
       " (3, 'Игорь', 'Павлов', 'Алексеевич', 1975, 'Москва', 'teacher'),\n",
       " (4, 'Семен', 'Аристархов', 'Павлович', 1980, 'Санкт-Петербург', 'teacher'),\n",
       " (5, 'Иван', 'Иванов', 'Иванович', 1970, 'Новосибирск', 'teacher')]"
      ]
     },
     "metadata": {},
     "output_type": "display_data"
    },
    {
     "name": "stdout",
     "output_type": "stream",
     "text": [
      "CPU times: user 15.8 ms, sys: 1.72 ms, total: 17.5 ms\n",
      "Wall time: 68.3 ms\n"
     ]
    }
   ],
   "source": [
    "%%time\n",
    "import psycopg2\n",
    "conn = psycopg2.connect(connection_string)\n",
    "cursor = conn.cursor()\n",
    "cursor.execute(\"SELECT * FROM users;\")\n",
    "rows = cursor.fetchall()\n",
    "display(rows)\n"
   ]
  },
  {
   "cell_type": "code",
   "execution_count": 17,
   "metadata": {},
   "outputs": [
    {
     "name": "stdout",
     "output_type": "stream",
     "text": [
      "Данные успешно добавлены.\n"
     ]
    }
   ],
   "source": [
    "\n",
    "# Добавление данных в таблицы students_sessions, videos, video_annotations, materials,material_annotations\n",
    "insert_query = \"\"\"\n",
    "-- Наполнение таблицы students_sessions\n",
    "INSERT INTO students_sessions (student_id, session_id) VALUES\n",
    "(1, 1),\n",
    "(2, 1),\n",
    "(1, 2),\n",
    "(2, 3);\n",
    "\n",
    "-- Наполнение таблицы videos\n",
    "INSERT INTO videos (session_id, file_path) VALUES\n",
    "(1, '/videos/ml_lecture_20240411.mp4'),\n",
    "(2, '/videos/is_lecture_20240412.mp4'),\n",
    "(3, '/videos/erp_exam_20240413.mp4');\n",
    "\n",
    "-- Наполнение таблицы video_annotations\n",
    "INSERT INTO video_annotations (video_id, timestamp, content) VALUES\n",
    "(1, '00:15:00', 'Обсуждение алгоритма регрессии'),\n",
    "(2, '00:05:00', 'Введение в проектирование ИС'),\n",
    "(3, '00:30:00', 'Обсуждение основ ERP-систем');\n",
    "\n",
    "-- Наполнение таблицы materials\n",
    "INSERT INTO materials (session_id, file_path) VALUES\n",
    "(1, '/materials/ml_slides.pdf'),\n",
    "(2, '/materials/is_slides.pdf'),\n",
    "(3, '/materials/erp_slides.pdf');\n",
    "\n",
    "-- Наполнение таблицы material_annotations\n",
    "INSERT INTO material_annotations (material_id, page_number, content) VALUES\n",
    "(1, 5, 'Пример линейной регрессии'),\n",
    "(2, 3, 'Диаграмма классов'),\n",
    "(3, 7, 'Модуль управления финансами');\n",
    "\"\"\"\n",
    "# Выполнение SQL-запроса\n",
    "try:\n",
    "    cursor.execute(insert_query)\n",
    "    conn.commit()\n",
    "    print(\"Данные успешно добавлены.\")\n",
    "except Exception as e:\n",
    "    print(f\"Ошибка выполнения запроса: {e}\")\n"
   ]
  },
  {
   "cell_type": "code",
   "execution_count": 5,
   "metadata": {},
   "outputs": [
    {
     "data": {
      "text/plain": [
       "[(2,\n",
       "  2,\n",
       "  'lecture',\n",
       "  4,\n",
       "  datetime.datetime(2024, 4, 12, 19, 0),\n",
       "  datetime.datetime(2024, 4, 12, 20, 40),\n",
       "  'zoom',\n",
       "  236740930)]"
      ]
     },
     "metadata": {},
     "output_type": "display_data"
    }
   ],
   "source": [
    "\n",
    "import psycopg2\n",
    "conn = psycopg2.connect(connection_string)\n",
    "cursor = conn.cursor()\n",
    "# Запрос 1: Все лекции, которые начинаются через 5 минут\n",
    "#(\"SELECT * FROM sessions WHERE type = 'lecture' AND start_time BETWEEN NOW() AND NOW() + INTERVAL '5 minutes';\")\n",
    "cursor.execute(\"SELECT * FROM sessions WHERE type = 'lecture' AND start_time BETWEEN '2024-04-12 18:55' AND NOW() + INTERVAL '5 minutes';\")\n",
    "rows = cursor.fetchall()\n",
    "display(rows)\n"
   ]
  },
  {
   "cell_type": "code",
   "execution_count": 6,
   "metadata": {},
   "outputs": [
    {
     "data": {
      "text/plain": [
       "[(1,\n",
       "  1,\n",
       "  'lecture',\n",
       "  3,\n",
       "  datetime.datetime(2024, 4, 11, 14, 0),\n",
       "  datetime.datetime(2024, 4, 11, 17, 0),\n",
       "  'zoom',\n",
       "  230340930),\n",
       " (2,\n",
       "  2,\n",
       "  'lecture',\n",
       "  4,\n",
       "  datetime.datetime(2024, 4, 12, 19, 0),\n",
       "  datetime.datetime(2024, 4, 12, 20, 40),\n",
       "  'zoom',\n",
       "  236740930)]"
      ]
     },
     "metadata": {},
     "output_type": "display_data"
    }
   ],
   "source": [
    "# Запрос 2: Расписание 1 курса на следующую неделю\n",
    "#import psycopg2\n",
    "conn = psycopg2.connect(connection_string)\n",
    "cursor = conn.cursor()\n",
    "cursor.execute(\"SELECT s.* FROM sessions s \\\n",
    "              JOIN students_sessions ss ON s.id = ss.session_id \\\n",
    "              JOIN users u ON ss.student_id = u.id \\\n",
    "              WHERE u.role = 'student' AND u.id = 1 \\\n",
    "              AND start_time BETWEEN NOW() - INTERVAL '1 year' AND NOW() + INTERVAL '2 weeks';\")\n",
    "rows = cursor.fetchall()\n",
    "display(rows)\n",
    "cursor.close()\n",
    "conn.commit()\n",
    "conn.close()"
   ]
  },
  {
   "cell_type": "markdown",
   "metadata": {},
   "source": [
    "## Перевод заполнения таблиц импортом из JSON файлов и запросы с использованием библиотеки SqlAlchemy"
   ]
  },
  {
   "cell_type": "markdown",
   "metadata": {},
   "source": [
    "### Удаляем всю ранне созданную схему базы (через pgAdmin pgsql tool )\n",
    "DROP SCHEMA public CASCADE;\n",
    "CREATE SCHEMA public;"
   ]
  },
  {
   "cell_type": "code",
   "execution_count": 2,
   "metadata": {},
   "outputs": [],
   "source": [
    "%%capture\n",
    "!pip install psycopg2 pandas sqlalchemy python-dotenv\n"
   ]
  },
  {
   "cell_type": "markdown",
   "metadata": {},
   "source": [
    "### Настройка подключения к базе данных через SQLAlchemy"
   ]
  },
  {
   "cell_type": "code",
   "execution_count": 3,
   "metadata": {},
   "outputs": [],
   "source": [
    "%%capture\n",
    "import json\n",
    "import pandas as pd\n",
    "from sqlalchemy import create_engine, Table, MetaData, Column, Integer, String, ForeignKey, TIMESTAMP, JSON\n",
    "from sqlalchemy.ext.declarative import declarative_base\n",
    "from dotenv import load_dotenv\n",
    "from sqlalchemy.orm import sessionmaker\n",
    "import os\n",
    "\n",
    "# Загружаем переменные окружения\n",
    "load_dotenv()\n",
    "\n",
    "# Получаем параметры подключения\n",
    "db_name = os.getenv(\"DB_NAME\")\n",
    "db_user = os.getenv(\"DB_USER\")\n",
    "db_password = os.getenv(\"DB_PASSWORD\")\n",
    "db_host = os.getenv(\"DB_HOST\")\n",
    "db_port = os.getenv(\"DB_PORT\")\n",
    "\n",
    "# Создаем подключение к базе данных\n",
    "engine = create_engine(f\"postgresql://{db_user}:{db_password}@{db_host}:{db_port}/{db_name}\")\n",
    "# Создаем сессию\n",
    "Session = sessionmaker(bind=engine)\n",
    "session = Session()\n",
    "Base = declarative_base()"
   ]
  },
  {
   "cell_type": "code",
   "execution_count": 11,
   "metadata": {},
   "outputs": [],
   "source": [
    "from sqlalchemy import text\n",
    "\n",
    "with engine.connect() as conn:\n",
    "    conn.execute(text(\"SET search_path TO public\"))\n",
    "    conn.commit()\n"
   ]
  },
  {
   "cell_type": "code",
   "execution_count": 39,
   "metadata": {},
   "outputs": [
    {
     "name": "stderr",
     "output_type": "stream",
     "text": [
      "/var/folders/gn/lhwr98lx5hd671qc72znvtjr0000gn/T/ipykernel_1523/293106250.py:6: MovedIn20Warning: The ``declarative_base()`` function is now available as sqlalchemy.orm.declarative_base(). (deprecated since: 2.0) (Background on SQLAlchemy 2.0 at: https://sqlalche.me/e/b8d9)\n",
      "  Base = declarative_base()\n"
     ]
    },
    {
     "name": "stdout",
     "output_type": "stream",
     "text": [
      "Все таблицы успешно созданы.\n"
     ]
    }
   ],
   "source": [
    "from sqlalchemy import Column, Integer, String, TIMESTAMP, ForeignKey, Text, DateTime\n",
    "from sqlalchemy.dialects.postgresql import JSONB\n",
    "from sqlalchemy.ext.declarative import declarative_base\n",
    "from sqlalchemy import text\n",
    "\n",
    "Base = declarative_base()\n",
    "\n",
    "class Student(Base):\n",
    "    __tablename__ = \"students\"\n",
    "    id = Column(Integer, primary_key=True)\n",
    "    info = Column(JSONB, nullable=False, server_default=text(\"'{}'\")) \n",
    "\n",
    "class Teacher(Base):\n",
    "    __tablename__ = \"teachers\"\n",
    "    id = Column(Integer, primary_key=True)\n",
    "    info = Column(JSONB, nullable=False, server_default=text(\"'{}'\")) \n",
    "\n",
    "class Discipline(Base):\n",
    "    __tablename__ = \"disciplines\"\n",
    "    id = Column(Integer, primary_key=True)\n",
    "    name = Column(String(100), nullable=False)\n",
    "    extra_data = Column(JSONB, nullable=True, server_default=text(\"'{}'\")) \n",
    "\n",
    "class Schedule(Base):\n",
    "    __tablename__ = \"schedule\"\n",
    "    id = Column(Integer, primary_key=True)\n",
    "    discipline_id = Column(Integer, ForeignKey(\"disciplines.id\")) \n",
    "    teacher_id = Column(Integer, ForeignKey(\"teachers.id\")) \n",
    "    type = Column(String(50), nullable=False)\n",
    "    start_time = Column(TIMESTAMP, nullable=False)\n",
    "    end_time = Column(TIMESTAMP, nullable=False)\n",
    "    extra_data = Column(JSONB, nullable=True, server_default=text(\"'{}'\")) \n",
    "\n",
    "# Создание всех таблиц\n",
    "Base.metadata.create_all(engine)\n",
    "print(\"Все таблицы успешно созданы.\")"
   ]
  },
  {
   "cell_type": "code",
   "execution_count": null,
   "metadata": {},
   "outputs": [],
   "source": [
    "Base.metadata.drop_all(engine)  # Удалил старые таблицы"
   ]
  },
  {
   "cell_type": "markdown",
   "metadata": {},
   "source": [
    "## Пересоздание основных и дополнительных таблиц базы данных с помощью SQLAlchemy"
   ]
  },
  {
   "cell_type": "code",
   "execution_count": 16,
   "metadata": {},
   "outputs": [
    {
     "name": "stderr",
     "output_type": "stream",
     "text": [
      "/var/folders/gn/lhwr98lx5hd671qc72znvtjr0000gn/T/ipykernel_2527/2189783243.py:7: MovedIn20Warning: The ``declarative_base()`` function is now available as sqlalchemy.orm.declarative_base(). (deprecated since: 2.0) (Background on SQLAlchemy 2.0 at: https://sqlalche.me/e/b8d9)\n",
      "  Base = declarative_base()\n"
     ]
    },
    {
     "name": "stdout",
     "output_type": "stream",
     "text": [
      "Все 7 таблиц успешно созданы.\n"
     ]
    }
   ],
   "source": [
    "from sqlalchemy import Column, Integer, String, TIMESTAMP, ForeignKey, Text, DateTime\n",
    "from sqlalchemy.dialects.postgresql import JSONB\n",
    "from sqlalchemy.ext.declarative import declarative_base\n",
    "from sqlalchemy import text\n",
    "from sqlalchemy.orm import relationship\n",
    "\n",
    "Base = declarative_base()\n",
    "\n",
    "class Student(Base):\n",
    "    __tablename__ = \"students\"\n",
    "    id = Column(Integer, primary_key=True)\n",
    "    info = Column(JSONB, nullable=False, server_default=text(\"'{}'\"))\n",
    "    questions = relationship(\"StudentQuestion\", back_populates=\"student\")\n",
    "\n",
    "class Teacher(Base):\n",
    "    __tablename__ = \"teachers\"\n",
    "    id = Column(Integer, primary_key=True)\n",
    "    info = Column(JSONB, nullable=False, server_default=text(\"'{}'\"))\n",
    "\n",
    "class Discipline(Base):\n",
    "    __tablename__ = \"disciplines\"\n",
    "    id = Column(Integer, primary_key=True)\n",
    "    name = Column(String(100), nullable=False)\n",
    "    extra_data = Column(JSONB, nullable=True, server_default=text(\"'{}'\"))\n",
    "    video_records = relationship(\"VideoRecord\", back_populates=\"discipline\")\n",
    "    presentations = relationship(\"Presentation\", back_populates=\"discipline\")\n",
    "\n",
    "class Schedule(Base):\n",
    "    __tablename__ = \"schedule\"\n",
    "    id = Column(Integer, primary_key=True)\n",
    "    discipline_id = Column(Integer, ForeignKey(\"disciplines.id\"))\n",
    "    teacher_id = Column(Integer, ForeignKey(\"teachers.id\"))\n",
    "    type = Column(String(50), nullable=False)\n",
    "    start_time = Column(TIMESTAMP, nullable=False)\n",
    "    end_time = Column(TIMESTAMP, nullable=False)\n",
    "    extra_data = Column(JSONB, nullable=True, server_default=text(\"'{}'\"))\n",
    "\n",
    "class VideoRecord(Base):\n",
    "    __tablename__ = \"video_records\"\n",
    "    id = Column(Integer, primary_key=True)\n",
    "    title = Column(String, nullable=False)\n",
    "    file_path = Column(String, nullable=False)\n",
    "    duration = Column(Integer, nullable=False)  # в секундах\n",
    "    discipline_id = Column(Integer, ForeignKey(\"disciplines.id\"), nullable=False)\n",
    "    extra_data = Column(JSONB, server_default=text(\"'{}'\"))\n",
    "    \n",
    "    discipline = relationship(\"Discipline\", back_populates=\"video_records\")\n",
    "    questions = relationship(\"StudentQuestion\", back_populates=\"video_record\")\n",
    "\n",
    "class Presentation(Base):\n",
    "    __tablename__ = \"presentations\"\n",
    "    id = Column(Integer, primary_key=True)\n",
    "    title = Column(String, nullable=False)\n",
    "    file_path = Column(String, nullable=False)\n",
    "    discipline_id = Column(Integer, ForeignKey(\"disciplines.id\"), nullable=False)\n",
    "    extra_data = Column(JSONB, server_default=text(\"'{}'\"))\n",
    "    \n",
    "    discipline = relationship(\"Discipline\", back_populates=\"presentations\")\n",
    "\n",
    "class StudentQuestion(Base):\n",
    "    __tablename__ = \"student_questions\"\n",
    "    id = Column(Integer, primary_key=True)\n",
    "    # text = Column(Text, nullable=False)\n",
    "    timestamp = Column(DateTime, nullable=False)\n",
    "    student_id = Column(Integer, ForeignKey(\"students.id\"), nullable=False)\n",
    "    video_id = Column(Integer, ForeignKey(\"video_records.id\"), nullable=False)\n",
    "    extra_data = Column(JSONB, server_default=text(\"'{}'\"))\n",
    "    \n",
    "    student = relationship(\"Student\", back_populates=\"questions\")\n",
    "    video_record = relationship(\"VideoRecord\", back_populates=\"questions\")\n",
    "\n",
    "# Создание всех таблиц\n",
    "Base.metadata.create_all(engine)\n",
    "print(\"Все 7 таблиц успешно созданы.\")"
   ]
  },
  {
   "cell_type": "code",
   "execution_count": 21,
   "metadata": {},
   "outputs": [],
   "source": [
    "# Удаляем все записи из таблиц перед повторной вставкой\n",
    "# Откатываем сессию, если в ней есть незавершенные транзакции\n",
    "\n",
    "from sqlalchemy.orm import sessionmaker\n",
    "from sqlalchemy import text  # Добавляем явное объявление SQL-запроса\n",
    "session.rollback()\n",
    "\n",
    "# Удаляем все записи из таблиц перед вставкой\n",
    "session.execute(text(\"DELETE FROM schedule\"))\n",
    "session.execute(text(\"ALTER SEQUENCE schedule_id_seq RESTART WITH 1\"))\n",
    "session.commit()\n",
    "session.execute(text(\"DELETE FROM disciplines\"))\n",
    "session.execute(text(\"ALTER SEQUENCE disciplines_id_seq RESTART WITH 1\"))\n",
    "session.commit()\n",
    "session.execute(text(\"DELETE FROM students\"))\n",
    "session.execute(text(\"ALTER SEQUENCE students_id_seq RESTART WITH 1\"))\n",
    "session.commit()\n",
    "session.execute(text(\"DELETE FROM teachers\"))\n",
    "session.execute(text(\"ALTER SEQUENCE teachers_id_seq RESTART WITH 1\"))\n",
    "session.commit()\n"
   ]
  },
  {
   "cell_type": "markdown",
   "metadata": {},
   "source": [
    "### Загрузка данных в таблицы с помощью импорта из json -файлов"
   ]
  },
  {
   "cell_type": "code",
   "execution_count": 22,
   "metadata": {},
   "outputs": [
    {
     "name": "stdout",
     "output_type": "stream",
     "text": [
      "Студенты загружены.\n",
      "Преподаватели загружены.\n",
      "Дисциплины загружены.\n",
      "Расписание загружено.\n",
      "Видеозаписи загружены.\n",
      "Презентации загружены.\n",
      "Вопросы студентов загружены.\n",
      "Загрузка данных завершена.\n"
     ]
    },
    {
     "name": "stderr",
     "output_type": "stream",
     "text": [
      "/var/folders/gn/lhwr98lx5hd671qc72znvtjr0000gn/T/ipykernel_2527/263929153.py:28: LegacyAPIWarning: The Query.get() method is considered legacy as of the 1.x series of SQLAlchemy and becomes a legacy construct in 2.0. The method is now available as Session.get() (deprecated since: 2.0) (Background on SQLAlchemy 2.0 at: https://sqlalche.me/e/b8d9)\n",
      "  if not session.query(ref_table).get(entry[key]):\n"
     ]
    }
   ],
   "source": [
    "import json\n",
    "from sqlalchemy import create_engine\n",
    "from sqlalchemy.orm import sessionmaker\n",
    "from sqlalchemy.exc import IntegrityError\n",
    "from models import (\n",
    "    Base, Student, Teacher, Discipline, \n",
    "    Schedule, VideoRecord, Presentation, StudentQuestion\n",
    ")\n",
    "\n",
    "engine = create_engine(f\"postgresql://{db_user}:{db_password}@{db_host}:{db_port}/{db_name}\")\n",
    "Session = sessionmaker(bind=engine)\n",
    "session = Session()\n",
    "\n",
    "\n",
    "def load_json_data(filename):\n",
    "    \"\"\"Загружает данные из JSON-файла.\"\"\"\n",
    "    try:\n",
    "        with open(filename, \"r\", encoding=\"utf-8\") as file:\n",
    "            return json.load(file)\n",
    "    except Exception as e:\n",
    "        print(f\"Ошибка загрузки {filename}: {e}\")\n",
    "        return []\n",
    "\n",
    "def check_foreign_keys(table_name, data, foreign_keys):\n",
    "    \"\"\"Проверяет существование внешних ключей.\"\"\"\n",
    "    for entry in data:\n",
    "        for key, ref_table in foreign_keys.items():\n",
    "            if not session.query(ref_table).get(entry[key]):\n",
    "                print(f\"В {table_name} запись {entry} содержит несуществующий {key}={entry[key]}\")\n",
    "                return False\n",
    "    return True\n",
    "\n",
    "#  Загрузка данных \n",
    "try:\n",
    "    # 1. Студенты\n",
    "    students_data = load_json_data(\"students.json\")\n",
    "    for student in students_data:\n",
    "        session.add(Student(info=student[\"info\"]))\n",
    "    session.commit()\n",
    "    print(\"Студенты загружены.\")\n",
    "\n",
    "    # 2. Преподаватели\n",
    "    teachers_data = load_json_data(\"teachers.json\")\n",
    "    for teacher in teachers_data:\n",
    "        session.add(Teacher(info=teacher[\"info\"]))\n",
    "    session.commit()\n",
    "    print(\"Преподаватели загружены.\")\n",
    "\n",
    "    # 3. Дисциплины\n",
    "    disciplines_data = load_json_data(\"disciplines.json\")\n",
    "    for disc in disciplines_data:\n",
    "        session.add(Discipline(name=disc[\"name\"], extra_data=disc[\"extra_data\"]))\n",
    "    session.commit()\n",
    "    print(\"Дисциплины загружены.\")\n",
    "\n",
    "    # 4. Расписание (schedule)\n",
    "    schedule_data = load_json_data(\"schedule.json\")\n",
    "    # Проверка времени и внешних ключей\n",
    "    valid = True\n",
    "    for entry in schedule_data:\n",
    "        if entry[\"start_time\"] >= entry[\"end_time\"]:\n",
    "            print(f\"Некорректное время в расписании: {entry}\")\n",
    "            valid = False\n",
    "    if valid and check_foreign_keys(\"schedule\", schedule_data, {\"discipline_id\": Discipline, \"teacher_id\": Teacher}):\n",
    "        for entry in schedule_data:\n",
    "            session.add(Schedule(**entry))\n",
    "        session.commit()\n",
    "        print(\"Расписание загружено.\")\n",
    "\n",
    "    # 5. Видеозаписи\n",
    "    video_data = load_json_data(\"video_records.json\")\n",
    "    if check_foreign_keys(\"video_records\", video_data, {\"discipline_id\": Discipline}):\n",
    "        for video in video_data:\n",
    "            session.add(VideoRecord(**video))\n",
    "        session.commit()\n",
    "        print(\"Видеозаписи загружены.\")\n",
    "\n",
    "    # 6. Презентации\n",
    "    presentations_data = load_json_data(\"presentations.json\")\n",
    "    if check_foreign_keys(\"presentations\", presentations_data, {\"discipline_id\": Discipline}):\n",
    "        for pres in presentations_data:\n",
    "            session.add(Presentation(**pres))\n",
    "        session.commit()\n",
    "        print(\"Презентации загружены.\")\n",
    "\n",
    "    # 7. Вопросы студентов\n",
    "    questions_data = load_json_data(\"student_questions.json\")\n",
    "    if check_foreign_keys(\"student_questions\", questions_data, {\"student_id\": Student, \"video_id\": VideoRecord}):\n",
    "        for question in questions_data:\n",
    "            session.add(StudentQuestion(**question))\n",
    "        session.commit()\n",
    "        print(\"Вопросы студентов загружены.\")\n",
    "\n",
    "except IntegrityError as e:\n",
    "    session.rollback()\n",
    "    print(f\"Ошибка целостности данных: {e}\")\n",
    "except Exception as e:\n",
    "    session.rollback()\n",
    "    print(f\"Неизвестная ошибка: {e}\")\n",
    "finally:\n",
    "    session.close()\n",
    "\n",
    "print(\"Загрузка данных завершена.\")"
   ]
  },
  {
   "cell_type": "code",
   "execution_count": 18,
   "metadata": {},
   "outputs": [
    {
     "name": "stdout",
     "output_type": "stream",
     "text": [
      "Таблицы успешно созданы.\n"
     ]
    },
    {
     "name": "stderr",
     "output_type": "stream",
     "text": [
      "/var/folders/gn/lhwr98lx5hd671qc72znvtjr0000gn/T/ipykernel_2527/4255242117.py:11: MovedIn20Warning: The ``declarative_base()`` function is now available as sqlalchemy.orm.declarative_base(). (deprecated since: 2.0) (Background on SQLAlchemy 2.0 at: https://sqlalche.me/e/b8d9)\n",
      "  Base = declarative_base()\n"
     ]
    }
   ],
   "source": [
    "from sqlalchemy.orm import sessionmaker\n",
    "from sqlalchemy.ext.declarative import declarative_base\n",
    "from models import (\n",
    "    VideoRecord, Presentation, StudentQuestion, \n",
    "    Discipline, Student, Teacher, Schedule  # Импорт всех моделей\n",
    ")\n",
    "\n",
    "engine = create_engine(f\"postgresql://{db_user}:{db_password}@{db_host}:{db_port}/{db_name}\")\n",
    "Session = sessionmaker(bind=engine)\n",
    "session = Session()\n",
    "\n",
    "# Создаем новые таблицы\n",
    "Base.metadata.create_all(\n",
    "    engine,\n",
    "    tables=[\n",
    "        # VideoRecord.__table__,\n",
    "        # Presentation.__table__,\n",
    "        StudentQuestion.__table__\n",
    "    ]\n",
    ")\n",
    "\n",
    "print(\"Таблицы успешно созданы.\")"
   ]
  },
  {
   "cell_type": "markdown",
   "metadata": {},
   "source": [
    "## Дозагрузка данных в расписание"
   ]
  },
  {
   "cell_type": "code",
   "execution_count": 23,
   "metadata": {},
   "outputs": [
    {
     "name": "stdout",
     "output_type": "stream",
     "text": [
      "Данные из schedule_update.json успешно добавлены в расписание.\n"
     ]
    }
   ],
   "source": [
    "# Подгрузим дополнительные данные в расписание \n",
    "import json\n",
    "from sqlalchemy import create_engine\n",
    "from sqlalchemy.orm import sessionmaker\n",
    "from sqlalchemy.exc import IntegrityError\n",
    "from models import Schedule, Discipline, Teacher\n",
    "\n",
    "engine = create_engine(f\"postgresql://{db_user}:{db_password}@{db_host}:{db_port}/{db_name}\")\n",
    "Session = sessionmaker(bind=engine)\n",
    "session = Session()\n",
    "\n",
    "def load_json_data(filename):\n",
    "    \"\"\"Загружает данные из JSON-файла.\"\"\"\n",
    "    try:\n",
    "        with open(filename, \"r\", encoding=\"utf-8\") as file:\n",
    "            return json.load(file)\n",
    "    except Exception as e:\n",
    "        print(f\"Ошибка загрузки {filename}: {e}\")\n",
    "        return []\n",
    "\n",
    "def check_foreign_keys(data):\n",
    "    \"\"\"Проверяет существование discipline_id и teacher_id.\"\"\"\n",
    "    for entry in data:\n",
    "        discipline = session.get(Discipline, entry[\"discipline_id\"])\n",
    "        teacher = session.get(Teacher, entry[\"teacher_id\"])\n",
    "        if not discipline:\n",
    "            print(f\"Некорректный discipline_id={entry['discipline_id']} в записи {entry}\")\n",
    "            return False\n",
    "        if not teacher:\n",
    "            print(f\"Некорректный teacher_id={entry['teacher_id']} в записи {entry}\")\n",
    "            return False\n",
    "    return True\n",
    "\n",
    "# Загрузка данных из schedule_update.json\n",
    "schedule_update_data = load_json_data(\"schedule_update.json\")\n",
    "\n",
    "if schedule_update_data:\n",
    "    try:\n",
    "        # Проверка времени и внешних ключей\n",
    "        valid = True\n",
    "        for entry in schedule_update_data:\n",
    "            if entry[\"start_time\"] >= entry[\"end_time\"]:\n",
    "                print(f\"Некорректное время: {entry}\")\n",
    "                valid = False\n",
    "        \n",
    "        if valid and check_foreign_keys(schedule_update_data):\n",
    "            for entry in schedule_update_data:\n",
    "                session.add(Schedule(**entry))\n",
    "            session.commit()\n",
    "            print(\"Данные из schedule_update.json успешно добавлены в расписание.\")\n",
    "    except IntegrityError as e:\n",
    "        session.rollback()\n",
    "        print(f\"Ошибка целостности: {e}\")\n",
    "    except Exception as e:\n",
    "        session.rollback()\n",
    "        print(f\"Неизвестная ошибка: {e}\")\n",
    "    finally:\n",
    "        session.close()\n",
    "else:\n",
    "    print(\"Файл schedule_update.json пуст или содержит ошибки.\")"
   ]
  },
  {
   "cell_type": "markdown",
   "metadata": {},
   "source": [
    "## Запрос 3: Все лекции, которые начинаются через 5 минут ()"
   ]
  },
  {
   "cell_type": "code",
   "execution_count": 81,
   "metadata": {},
   "outputs": [],
   "source": [
    "from datetime import datetime, timedelta\n",
    "\n",
    "# Получаем текущее время\n",
    "current_time = datetime.now()\n",
    "\n",
    "# SQL-запрос\n",
    "query = text(\"\"\"\n",
    "    SELECT id, discipline_id, teacher_id, type, start_time, end_time, extra_data->>'course' AS course \n",
    "    FROM schedule \n",
    "    WHERE type = 'lecture' \n",
    "    AND start_time BETWEEN :current_time AND :current_time_plus_5\n",
    "\"\"\")\n",
    "\n",
    "# Выполняем запрос\n",
    "result = session.execute(query, {\n",
    "    \"current_time\": current_time,\n",
    "    \"current_time_plus_5\": current_time + timedelta(days=5) # minutes=5\n",
    "}).fetchall()\n",
    "\n",
    "# Выводим результат\n",
    "for row in result:\n",
    "    print(row)\n"
   ]
  },
  {
   "cell_type": "markdown",
   "metadata": {},
   "source": [
    "## Запрос 4: Расписание 1 курса на следующую неделю"
   ]
  },
  {
   "cell_type": "code",
   "execution_count": 26,
   "metadata": {},
   "outputs": [
    {
     "name": "stdout",
     "output_type": "stream",
     "text": [
      "Расписание для 1 курса на следующую неделю:\n",
      "Дисциплина: 1, Тип: lecture, Начало: 2025-03-31 19:00:00, Тема: Основы машинного обучения\n",
      "Дисциплина: 2, Тип: practice, Начало: 2025-03-31 19:00:00, Тема: Программирование на Python\n"
     ]
    }
   ],
   "source": [
    "from sqlalchemy import and_, cast, Integer\n",
    "from sqlalchemy.sql import func\n",
    "from datetime import datetime, timedelta\n",
    "from models import Schedule\n",
    "\n",
    "# Определение дат следующей недели\n",
    "current_date = datetime(2025, 3, 28)  # Пример текущей даты\n",
    "next_week_start = current_date + timedelta(days=(7 - current_date.weekday()))\n",
    "next_week_end = next_week_start + timedelta(days=6)\n",
    "\n",
    "# Запрос к базе данных\n",
    "schedule_query = (\n",
    "    session.query(Schedule)\n",
    "    .filter(\n",
    "        and_(\n",
    "            # Фильтр по курсу (значение в JSONB \"course\" = 1)\n",
    "            cast(Schedule.extra_data[\"course\"].astext, Integer) == 1,\n",
    "            # Фильтр по дате (следующая неделя)\n",
    "            Schedule.start_time.between(next_week_start, next_week_end)\n",
    "        )\n",
    "    )\n",
    "    .order_by(Schedule.start_time)\n",
    "    .all()\n",
    ")\n",
    "\n",
    "# Вывод результатов\n",
    "print(\"Расписание для 1 курса на следующую неделю:\")\n",
    "for entry in schedule_query:\n",
    "    print(\n",
    "        f\"Дисциплина: {entry.discipline_id}, \"\n",
    "        f\"Тип: {entry.type}, \"\n",
    "        f\"Начало: {entry.start_time}, \"\n",
    "        f\"Тема: {entry.extra_data.get('topic')}\"\n",
    "    )"
   ]
  },
  {
   "cell_type": "markdown",
   "metadata": {},
   "source": [
    "## 5. Контекстный поиск.\n",
    "### Все позиции в видеозаписях с упоминанием термина \"корутина\""
   ]
  },
  {
   "cell_type": "code",
   "execution_count": 58,
   "metadata": {},
   "outputs": [
    {
     "name": "stdout",
     "output_type": "stream",
     "text": [
      "Видеозаписи с упоминанием 'корутина':\n",
      "- Лекция 1: Введение в машинное обучение (ID: 1)\n"
     ]
    }
   ],
   "source": [
    "from sqlalchemy import func, text\n",
    "from models import VideoRecord\n",
    "\n",
    "# Создание GIN индекса для ускорения поиска \n",
    "session.execute(text(\"\"\"\n",
    "    CREATE INDEX IF NOT EXISTS idx_video_records_extra_data \n",
    "    ON public.video_records \n",
    "    USING GIN ((extra_data->'keywords'), (extra_data->'transcript'));\n",
    "\"\"\"))\n",
    "session.commit()\n",
    "\n",
    "# Запрос\n",
    "query = (\n",
    "    session.query(VideoRecord)\n",
    "    .filter(\n",
    "        func.to_tsvector('russian', VideoRecord.extra_data['transcript'].astext)\n",
    "        .op('@@')(func.to_tsquery('корутина'))\n",
    "        | VideoRecord.extra_data['keywords'].contains(['корутина'])\n",
    "    )\n",
    "    .all()\n",
    ")\n",
    "\n",
    "# Вывод\n",
    "print(\"Видеозаписи с упоминанием 'корутина':\")\n",
    "for video in query:\n",
    "    print(f\"- {video.title} (ID: {video.id})\")"
   ]
  },
  {
   "cell_type": "code",
   "execution_count": 52,
   "metadata": {},
   "outputs": [],
   "source": [
    "\n",
    "# Откатываем сессию, если в ней есть незавершенные транзакции\n",
    "\n",
    "from sqlalchemy.orm import sessionmaker\n",
    "from sqlalchemy import text  # Добавляем явное объявление SQL-запроса\n",
    "session.rollback()\n",
    "session.execute(text(\"\"\"\n",
    "    DROP INDEX IF EXISTS idx_presentations_keywords;\n",
    "    DROP INDEX IF EXISTS idx_presentations_extra_data;\n",
    "\"\"\"))\n",
    "\n",
    "session.execute(text(\"\"\"\n",
    "    CREATE INDEX IF NOT EXISTS idx_presentations_keywords \n",
    "    ON public.presentations \n",
    "    USING GIN ((extra_data->'keywords'));\n",
    "\"\"\"))\n",
    "session.commit()"
   ]
  },
  {
   "cell_type": "code",
   "execution_count": 82,
   "metadata": {},
   "outputs": [
    {
     "name": "stdout",
     "output_type": "stream",
     "text": [
      "Результаты поиска:\n",
      "- Основы ML (ID: 4)\n",
      "- Python для начинающих (ID: 5)\n"
     ]
    }
   ],
   "source": [
    "from sqlalchemy import func, text\n",
    "from models import Presentation\n",
    "# Поиск презентаций\n",
    "phrases = [\"антипаттерн\", \"LLM\", \"нейронные сети\"]\n",
    "\n",
    "query = (\n",
    "    session.query(Presentation)\n",
    "    .filter(\n",
    "        # Поиск по ключевым словам\n",
    "        Presentation.extra_data['keywords'].contains(phrases)\n",
    "        |\n",
    "        # Полнотекстовый поиск по транскрипту\n",
    "        func.to_tsvector('russian', Presentation.extra_data['transcript'].astext)\n",
    "        .op(\"@@\")(func.to_tsquery(' | '.join([f\"'{p}'\" for p in phrases])))\n",
    "    )\n",
    "    .all()\n",
    ")\n",
    "\n",
    "# Вывод\n",
    "print(\"Результаты поиска:\")\n",
    "for pres in query:\n",
    "    print(f\"- {pres.title} (ID: {pres.id})\")"
   ]
  },
  {
   "cell_type": "markdown",
   "metadata": {},
   "source": [
    "## 6. Контекстный поиск. \n",
    "### Все элементы раздаточного материала, во время демонстрации которых произносились слова \"антипаттерн\", \"не делайте так\", \"плохой пример\"\n"
   ]
  },
  {
   "cell_type": "markdown",
   "metadata": {},
   "source": [
    "### Догрузка данных в таблицу презентаций для контекстного поиска"
   ]
  },
  {
   "cell_type": "code",
   "execution_count": 57,
   "metadata": {},
   "outputs": [
    {
     "name": "stdout",
     "output_type": "stream",
     "text": [
      "Презентации загружены.\n",
      "Загрузка данных завершена.\n"
     ]
    },
    {
     "name": "stderr",
     "output_type": "stream",
     "text": [
      "/var/folders/gn/lhwr98lx5hd671qc72znvtjr0000gn/T/ipykernel_2527/732590196.py:33: LegacyAPIWarning: The Query.get() method is considered legacy as of the 1.x series of SQLAlchemy and becomes a legacy construct in 2.0. The method is now available as Session.get() (deprecated since: 2.0) (Background on SQLAlchemy 2.0 at: https://sqlalche.me/e/b8d9)\n",
      "  if not session.query(ref_table).get(entry[key]):\n"
     ]
    }
   ],
   "source": [
    "import json\n",
    "from sqlalchemy import create_engine\n",
    "from sqlalchemy import text\n",
    "from sqlalchemy.orm import sessionmaker\n",
    "from sqlalchemy.exc import IntegrityError\n",
    "from models import (\n",
    "    Base, Student, Teacher, Discipline, \n",
    "    Schedule, VideoRecord, Presentation, StudentQuestion\n",
    ")\n",
    "\n",
    "engine = create_engine(f\"postgresql://{db_user}:{db_password}@{db_host}:{db_port}/{db_name}\")\n",
    "Session = sessionmaker(bind=engine)\n",
    "session = Session()\n",
    "\n",
    "# Удаление всех записей из таблицы presentations\n",
    "session.execute(text(\"DELETE FROM public.presentations\"))\n",
    "session.commit()\n",
    "\n",
    "def load_json_data(filename):\n",
    "    \"\"\"Загружает данные из JSON-файла.\"\"\"\n",
    "    try:\n",
    "        with open(filename, \"r\", encoding=\"utf-8\") as file:\n",
    "            return json.load(file)\n",
    "    except Exception as e:\n",
    "        print(f\"Ошибка загрузки {filename}: {e}\")\n",
    "        return []\n",
    "\n",
    "\n",
    "def check_foreign_keys(table_name, data, foreign_keys):\n",
    "    \"\"\"Проверяет существование внешних ключей.\"\"\"\n",
    "    for entry in data:\n",
    "        for key, ref_table in foreign_keys.items():\n",
    "            if not session.query(ref_table).get(entry[key]):\n",
    "                print(f\"В {table_name} запись {entry} содержит несуществующий {key}={entry[key]}\")\n",
    "                return False\n",
    "    return True\n",
    "try:\n",
    "    # 6. Презентации\n",
    "    presentations_data = load_json_data(\"presentations.json\")\n",
    "    if check_foreign_keys(\"presentations\", presentations_data, {\"discipline_id\": Discipline}):\n",
    "        for pres in presentations_data:\n",
    "            session.add(Presentation(**pres))\n",
    "        session.commit()\n",
    "        print(\"Презентации загружены.\")\n",
    "\n",
    "except IntegrityError as e:\n",
    "    session.rollback()\n",
    "    print(f\"Ошибка целостности данных: {e}\")\n",
    "except Exception as e:\n",
    "    session.rollback()\n",
    "    print(f\"Неизвестная ошибка: {e}\")\n",
    "finally:\n",
    "    session.close()\n",
    "\n",
    "print(\"Загрузка данных завершена.\")"
   ]
  },
  {
   "cell_type": "code",
   "execution_count": 59,
   "metadata": {},
   "outputs": [
    {
     "name": "stdout",
     "output_type": "stream",
     "text": [
      "Title: Основы ML\n",
      "Transcript: LLM (Large Language Models) — это современные архитектуры, основанные на нейронных сетях. Не делайте так: использование устаревших методов может быть плохим примером.\n",
      "\n",
      "Title: Python для начинающих\n",
      "Transcript: Использование глобальных переменных — это антипаттерн. Плохой пример: не делайте так, это нарушает принципы чистого кода.\n",
      "\n",
      "Title: Оптимизация баз данных\n",
      "Transcript: Создание индексов — важный этап оптимизации. Не делайте так: отсутствие индексов — плохой пример проектирования.\n",
      "\n"
     ]
    }
   ],
   "source": [
    "# Проверка данных\n",
    "presentations = session.query(Presentation).all()\n",
    "for pres in presentations:\n",
    "    print(f\"Title: {pres.title}\")\n",
    "    print(f\"Transcript: {pres.extra_data.get('transcript', 'N/A')}\\n\")"
   ]
  },
  {
   "cell_type": "code",
   "execution_count": 68,
   "metadata": {},
   "outputs": [
    {
     "name": "stdout",
     "output_type": "stream",
     "text": [
      "📊 Результаты поиска по транскрипту:\n",
      "- Основы ML (ID: 4)\n",
      "- Python для начинающих (ID: 5)\n",
      "- Оптимизация баз данных (ID: 6)\n"
     ]
    }
   ],
   "source": [
    "from sqlalchemy import func\n",
    "from models import Presentation\n",
    "\n",
    "session.rollback()\n",
    "phrases = [\"антипаттерн\", \"не делайте так\", \"плохой пример\"]\n",
    "\n",
    "# Формируем TSQUERY\n",
    "tsquery = ' | '.join([f\"'{p}'\" for p in phrases])\n",
    "\n",
    "query = (\n",
    "    session.query(Presentation)\n",
    "    .filter(\n",
    "        func.to_tsvector('russian', Presentation.extra_data['transcript'].astext)\n",
    "        .op(\"@@\")(func.to_tsquery(tsquery))\n",
    "    )\n",
    "    .all()  # Метод all() вызывается после закрытия filter()\n",
    ")\n",
    "\n",
    "print(\"Результаты поиска по транскрипту:\")\n",
    "for pres in query:\n",
    "    print(f\"- {pres.title} (ID: {pres.id})\")"
   ]
  },
  {
   "cell_type": "markdown",
   "metadata": {},
   "source": [
    "## Семантический поиск. \n",
    "Догрузка транскриптов по видеолекциям, с упоминаниями различий блочных, символьных устройств и обучение в контексте LLM"
   ]
  },
  {
   "cell_type": "code",
   "execution_count": 71,
   "metadata": {},
   "outputs": [
    {
     "name": "stderr",
     "output_type": "stream",
     "text": [
      "/var/folders/gn/lhwr98lx5hd671qc72znvtjr0000gn/T/ipykernel_2527/3314554231.py:34: LegacyAPIWarning: The Query.get() method is considered legacy as of the 1.x series of SQLAlchemy and becomes a legacy construct in 2.0. The method is now available as Session.get() (deprecated since: 2.0) (Background on SQLAlchemy 2.0 at: https://sqlalche.me/e/b8d9)\n",
      "  if not session.query(ref_table).get(entry[key]):\n"
     ]
    },
    {
     "name": "stdout",
     "output_type": "stream",
     "text": [
      "Видеозаписи загружены.\n",
      "Загрузка данных завершена.\n"
     ]
    }
   ],
   "source": [
    "# загрузка тестовых данных для выполнения запроса \n",
    "import json\n",
    "from sqlalchemy import create_engine\n",
    "from sqlalchemy import text\n",
    "from sqlalchemy.orm import sessionmaker\n",
    "from sqlalchemy.exc import IntegrityError\n",
    "from models import (\n",
    "    Base, Student, Teacher, Discipline, \n",
    "    Schedule, VideoRecord, Presentation, StudentQuestion\n",
    ")\n",
    "session.rollback()\n",
    "engine = create_engine(f\"postgresql://{db_user}:{db_password}@{db_host}:{db_port}/{db_name}\")\n",
    "Session = sessionmaker(bind=engine)\n",
    "session = Session()\n",
    "\n",
    "# Удаление всех записей из таблицы video_records\n",
    "# session.execute(text(\"DELETE FROM public.video_records\"))\n",
    "# session.commit()\n",
    "\n",
    "def load_json_data(filename):\n",
    "    \"\"\"Загружает данные из JSON-файла.\"\"\"\n",
    "    try:\n",
    "        with open(filename, \"r\", encoding=\"utf-8\") as file:\n",
    "            return json.load(file)\n",
    "    except Exception as e:\n",
    "        print(f\"Ошибка загрузки {filename}: {e}\")\n",
    "        return []\n",
    "\n",
    "\n",
    "def check_foreign_keys(table_name, data, foreign_keys):\n",
    "    \"\"\"Проверяет существование внешних ключей.\"\"\"\n",
    "    for entry in data:\n",
    "        for key, ref_table in foreign_keys.items():\n",
    "            if not session.query(ref_table).get(entry[key]):\n",
    "                print(f\"В {table_name} запись {entry} содержит несуществующий {key}={entry[key]}\")\n",
    "                return False\n",
    "    return True\n",
    "try:\n",
    "    # 5. Видеозаписи\n",
    "    video_data = load_json_data(\"video_records_update.json\")\n",
    "    if check_foreign_keys(\"video_records\", video_data, {\"discipline_id\": Discipline}):\n",
    "        for video in video_data:\n",
    "            session.add(VideoRecord(**video))\n",
    "        session.commit()\n",
    "        print(\"Видеозаписи загружены.\")\n",
    "\n",
    "except IntegrityError as e:\n",
    "    session.rollback()\n",
    "    print(f\"Ошибка целостности данных: {e}\")\n",
    "except Exception as e:\n",
    "    session.rollback()\n",
    "    print(f\"Неизвестная ошибка: {e}\")\n",
    "finally:\n",
    "    session.close()\n",
    "\n",
    "print(\"Загрузка данных завершена.\")"
   ]
  },
  {
   "cell_type": "markdown",
   "metadata": {},
   "source": [
    "## 7. Семантический поиск.\n",
    "### Все места в видеолекциях, где упоминается обучение в контексте LLM"
   ]
  },
  {
   "cell_type": "code",
   "execution_count": 11,
   "metadata": {},
   "outputs": [
    {
     "name": "stdout",
     "output_type": "stream",
     "text": [
      "Найдено 1 видеолекций:\n",
      "1. Семинар: Оптимизация SQL-запросов\n",
      "   Транскрипт: Рассмотрим различия между символьными и блочными у...\n"
     ]
    }
   ],
   "source": [
    "from sqlalchemy import create_engine, func, text\n",
    "from sqlalchemy.orm import sessionmaker, declarative_base\n",
    "from sqlalchemy import Column, Integer, String, JSON\n",
    "from models import (\n",
    "    Base, Student, Teacher, Discipline, \n",
    "    Schedule, VideoRecord, Presentation, StudentQuestion\n",
    ")\n",
    "\n",
    "# Подключение к базе данных\n",
    "session.rollback()\n",
    "engine = create_engine(f\"postgresql://{db_user}:{db_password}@{db_host}:{db_port}/{db_name}\")\n",
    "Session = sessionmaker(bind=engine)\n",
    "session = Session()\n",
    "\n",
    "# Выполнение полнотекстового поиска\n",
    "try:\n",
    "   \n",
    "    search_query = 'блочный & символьный & различие' #'чем символьное устройство отличается от блочного'\n",
    "    \n",
    "    # Создаем запрос\n",
    "    results = (\n",
    "        session.query(VideoRecord)\n",
    "        .filter(\n",
    "            func.to_tsvector('russian', VideoRecord.extra_data['transcript'].astext)\n",
    "            .op('@@')(func.websearch_to_tsquery('russian', search_query))\n",
    "        )\n",
    "        .all()\n",
    "    )\n",
    "    \n",
    "    # Выводим результаты\n",
    "    if results:\n",
    "        print(f\"Найдено {len(results)} видеолекций:\")\n",
    "        for idx, record in enumerate(results, 1):\n",
    "            print(f\"{idx}. {record.title}\")\n",
    "            print(f\"   Транскрипт: {record.extra_data['transcript'][:50]}...\")\n",
    "    else:\n",
    "        print(\"Совпадений не найдено\")\n",
    "        \n",
    "except Exception as e:\n",
    "    session.rollback()\n",
    "    print(f\"Ошибка при выполнении запроса: {e}\")\n",
    "finally:\n",
    "    session.close()"
   ]
  },
  {
   "cell_type": "markdown",
   "metadata": {},
   "source": [
    "## 8. Семантический поиск. \n",
    "### Ответ на вопрос: чем символьное устройство отличается от блочного?"
   ]
  },
  {
   "cell_type": "code",
   "execution_count": 6,
   "metadata": {},
   "outputs": [
    {
     "name": "stdout",
     "output_type": "stream",
     "text": [
      "Найдено 4 видеолекций:\n",
      "1. Лекция 1: Введение в машинное обучение\n",
      "   Транскрипт: Обучение LLM (Large Language Models) включает пред...\n",
      "2. Практика: Тонкая настройка LLM\n",
      "   Транскрипт: В этом видео мы рассмотрим этапы тонкой настройки ...\n",
      "3. Семинар: Оптимизация LLM\n",
      "   Транскрипт: Обучение LLM требует оптимизации вычислительных ре...\n",
      "4. Лекция 4: Этические аспекты LLM\n",
      "   Транскрипт: Обучение LLM на предвзятых данных может привести к...\n"
     ]
    }
   ],
   "source": [
    "from sqlalchemy import create_engine, func, text\n",
    "from sqlalchemy.orm import sessionmaker, declarative_base\n",
    "from sqlalchemy import Column, Integer, String, JSON\n",
    "from models import (\n",
    "    Base, Student, Teacher, Discipline, \n",
    "    Schedule, VideoRecord, Presentation, StudentQuestion\n",
    ")\n",
    "\n",
    "# Подключение к базе данных\n",
    "session.rollback()\n",
    "engine = create_engine(f\"postgresql://{db_user}:{db_password}@{db_host}:{db_port}/{db_name}\")\n",
    "Session = sessionmaker(bind=engine)\n",
    "session = Session()\n",
    "\n",
    "# Выполнение полнотекстового поиска\n",
    "try:\n",
    "   \n",
    "    search_query = 'LLM & обучение'\n",
    "    \n",
    "    # Создаем запрос\n",
    "    results = (\n",
    "        session.query(VideoRecord)\n",
    "        .filter(\n",
    "            func.to_tsvector('russian', VideoRecord.extra_data['transcript'].astext)\n",
    "            .op('@@')(func.websearch_to_tsquery('russian', search_query))\n",
    "        )\n",
    "        .all()\n",
    "    )\n",
    "    \n",
    "    # Выводим результаты\n",
    "    if results:\n",
    "        print(f\"Найдено {len(results)} видеолекций:\")\n",
    "        for idx, record in enumerate(results, 1):\n",
    "            print(f\"{idx}. {record.title}\")\n",
    "            print(f\"   Транскрипт: {record.extra_data['transcript'][:50]}...\")\n",
    "    else:\n",
    "        print(\"Совпадений не найдено\")\n",
    "        \n",
    "except Exception as e:\n",
    "    session.rollback()\n",
    "    print(f\"Ошибка при выполнении запроса: {e}\")\n",
    "finally:\n",
    "    session.close()"
   ]
  },
  {
   "cell_type": "markdown",
   "metadata": {},
   "source": [
    "### Подключение к API OpenAI для генерации embeddings:"
   ]
  },
  {
   "cell_type": "code",
   "execution_count": null,
   "metadata": {},
   "outputs": [
    {
     "name": "stdout",
     "output_type": "stream",
     "text": [
      "API Key загружен успешно.\n"
     ]
    }
   ],
   "source": [
    "import os\n",
    "from dotenv import load_dotenv\n",
    "\n",
    "# Загружаем переменные окружения из .env\n",
    "load_dotenv()\n",
    "\n",
    "# Получаем API-ключ\n",
    "api_key = os.getenv(\"OPENAI_API_KEY\")\n",
    "\n",
    "# Проверяем, что ключ загружен\n",
    "if api_key:\n",
    "    print(\"API Key загружен успешно.\")\n",
    "else:\n",
    "    print(\"Ошибка: API Key не найден.\")\n"
   ]
  }
 ],
 "metadata": {
  "kernelspec": {
   "display_name": ".venv",
   "language": "python",
   "name": "python3"
  },
  "language_info": {
   "codemirror_mode": {
    "name": "ipython",
    "version": 3
   },
   "file_extension": ".py",
   "mimetype": "text/x-python",
   "name": "python",
   "nbconvert_exporter": "python",
   "pygments_lexer": "ipython3",
   "version": "3.11.4"
  }
 },
 "nbformat": 4,
 "nbformat_minor": 2
}
