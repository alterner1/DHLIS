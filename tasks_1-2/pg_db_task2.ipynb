{
 "cells": [
  {
   "cell_type": "markdown",
   "metadata": {},
   "source": [
    "# Задача 2\n",
    "## Сервис поиска студентов на базе технологии XML-RPC "
   ]
  },
  {
   "cell_type": "markdown",
   "metadata": {},
   "source": [
    "Используем базу на Postgres 16 созданную в задаче 1"
   ]
  },
  {
   "cell_type": "code",
   "execution_count": 1,
   "metadata": {},
   "outputs": [],
   "source": [
    "%%capture\n",
    "!pip install psycopg2 openai ipython-sql python-dotenv"
   ]
  },
  {
   "cell_type": "code",
   "execution_count": 1,
   "metadata": {},
   "outputs": [
    {
     "name": "stdout",
     "output_type": "stream",
     "text": [
      "Строка подключения успешно создана.\n"
     ]
    }
   ],
   "source": [
    "from dotenv import load_dotenv\n",
    "import os\n",
    "\n",
    "# Загрузка переменных окружения\n",
    "load_dotenv()\n",
    "\n",
    "# Получение значений из .env файла\n",
    "db_name = os.getenv(\"DB_NAME\")\n",
    "db_user = os.getenv(\"DB_USER\")\n",
    "db_password = os.getenv(\"DB_PASSWORD\")\n",
    "db_host = os.getenv(\"DB_HOST\")\n",
    "db_port = os.getenv(\"DB_PORT\")\n",
    "\n",
    "# Формирование строки подключения\n",
    "connection_string = f\"postgresql://{db_user}:{db_password}@{db_host}:{db_port}/{db_name}\"\n",
    "\n",
    "print(\"Строка подключения успешно создана.\")\n"
   ]
  },
  {
   "cell_type": "code",
   "execution_count": 3,
   "metadata": {},
   "outputs": [],
   "source": [
    "%%capture\n",
    "import json\n",
    "import pandas as pd\n",
    "from sqlalchemy import create_engine, Table, MetaData, Column, Integer, String, ForeignKey, TIMESTAMP, JSON\n",
    "from sqlalchemy.ext.declarative import declarative_base\n",
    "from dotenv import load_dotenv\n",
    "from sqlalchemy.orm import sessionmaker\n",
    "import os\n",
    "\n",
    "# Загружаем переменные окружения\n",
    "load_dotenv()\n",
    "\n",
    "# Получаем параметры подключения\n",
    "db_name = os.getenv(\"DB_NAME\")\n",
    "db_user = os.getenv(\"DB_USER\")\n",
    "db_password = os.getenv(\"DB_PASSWORD\")\n",
    "db_host = os.getenv(\"DB_HOST\")\n",
    "db_port = os.getenv(\"DB_PORT\")\n",
    "\n",
    "# Создаем подключение к базе данных\n",
    "engine = create_engine(f\"postgresql://{db_user}:{db_password}@{db_host}:{db_port}/{db_name}\")\n",
    "# Создаем сессию\n",
    "Session = sessionmaker(bind=engine)\n",
    "session = Session()\n",
    "Base = declarative_base()"
   ]
  },
  {
   "cell_type": "markdown",
   "metadata": {},
   "source": [
    "## Подгрузка студентов ( ранее добавленные удалил поскольку понадобились дополнительные поля)"
   ]
  },
  {
   "cell_type": "code",
   "execution_count": 4,
   "metadata": {},
   "outputs": [
    {
     "name": "stdout",
     "output_type": "stream",
     "text": [
      "Загружено студентов: 10\n"
     ]
    }
   ],
   "source": [
    "from sqlalchemy import create_engine, text\n",
    "from sqlalchemy.orm import sessionmaker\n",
    "from models import Student\n",
    "import json\n",
    "\n",
    "# Подключение к базе\n",
    "engine = create_engine(f\"postgresql://{db_user}:{db_password}@{db_host}:{db_port}/{db_name}\")\n",
    "Session = sessionmaker(bind=engine)\n",
    "session = Session()\n",
    "\n",
    "# Очистка таблицы (если нужно)\n",
    "session.execute(text(\"TRUNCATE TABLE students RESTART IDENTITY CASCADE\"))\n",
    "session.commit()\n",
    "\n",
    "# Загрузка данных\n",
    "with open('students_update.json', 'r', encoding='utf-8') as f:\n",
    "    students_data = json.load(f)\n",
    "\n",
    "for data in students_data:\n",
    "    try:\n",
    "        student = Student(\n",
    "            full_name=data[\"full_name\"],\n",
    "            age=data[\"age\"],\n",
    "            gender=data[\"gender\"],\n",
    "            attendance=data[\"attendance\"],\n",
    "            grades=data[\"grades\"],\n",
    "            info=data.get(\"info\", {})\n",
    "        )\n",
    "        session.add(student)\n",
    "    except KeyError as e:\n",
    "        print(f\"Ошибка в данных: отсутствует поле {e}\")\n",
    "\n",
    "try:\n",
    "    session.commit()\n",
    "    print(f\"Загружено студентов: {len(students_data)}\")\n",
    "except Exception as e:\n",
    "    session.rollback()\n",
    "    print(f\"Ошибка: {e}\")\n",
    "finally:\n",
    "    session.close()"
   ]
  },
  {
   "cell_type": "code",
   "execution_count": 4,
   "metadata": {},
   "outputs": [],
   "source": [
    "# Закрытие текущей сессии\n",
    "session.close()\n",
    "# Пересоздание engine и сессии\n",
    "engine.dispose()  # освобождает пул соединений\n",
    "Session = sessionmaker(bind=engine)\n",
    "session = Session()\n",
    "\n",
    "engine = create_engine(f\"postgresql://{db_user}:{db_password}@{db_host}:{db_port}/{db_name}\")\n",
    "Session = sessionmaker(bind=engine)\n",
    "session = Session()\n",
    "\n"
   ]
  },
  {
   "cell_type": "code",
   "execution_count": 5,
   "metadata": {},
   "outputs": [],
   "source": [
    "%%capture\n",
    "!pip install --upgrade sqlalchemy #обновление sqlalchemy"
   ]
  },
  {
   "cell_type": "markdown",
   "metadata": {},
   "source": [
    "### Сервер XML-RPC"
   ]
  },
  {
   "cell_type": "code",
   "execution_count": null,
   "metadata": {},
   "outputs": [
    {
     "name": "stderr",
     "output_type": "stream",
     "text": [
      "INFO:root:Запрос: {'full_name': 'Петров'}\n",
      "127.0.0.1 - - [31/Mar/2025 22:05:43] \"POST / HTTP/1.1\" 200 -\n",
      "INFO:root:Запрос: {'full_name': 'Петров'}\n",
      "127.0.0.1 - - [31/Mar/2025 22:06:27] \"POST / HTTP/1.1\" 200 -\n",
      "INFO:root:Запрос: {'full_name': 'Петрова'}\n",
      "127.0.0.1 - - [31/Mar/2025 22:06:43] \"POST / HTTP/1.1\" 200 -\n",
      "INFO:root:Запрос: {'gender': 'male', 'lecture_presence': {'lecture': 'Основы ML', 'is_present': True}}\n",
      "127.0.0.1 - - [31/Mar/2025 22:15:11] \"POST / HTTP/1.1\" 200 -\n",
      "INFO:root:Запрос: {'gender': 'male', 'lecture_presence': {'lecture': '1', 'is_present': True}}\n",
      "127.0.0.1 - - [31/Mar/2025 22:18:03] \"POST / HTTP/1.1\" 200 -\n",
      "INFO:root:Запрос: {'gender': 'male', 'lecture_presence': {'lecture': 'Лекция 1', 'is_present': True}}\n",
      "127.0.0.1 - - [31/Mar/2025 22:18:32] \"POST / HTTP/1.1\" 200 -\n",
      "INFO:root:Запрос: {'gender': 'male', 'lecture_presence': {'lecture': 'Лекция 1', 'is_present': True}}\n",
      "127.0.0.1 - - [31/Mar/2025 22:20:54] \"POST / HTTP/1.1\" 200 -\n",
      "INFO:root:Запрос: {'full_name': 'Петрова'}\n",
      "127.0.0.1 - - [31/Mar/2025 22:22:35] \"POST / HTTP/1.1\" 200 -\n",
      "INFO:root:Запрос: {'full_name': 'Петрова'}\n",
      "127.0.0.1 - - [31/Mar/2025 22:25:34] \"POST / HTTP/1.1\" 200 -\n",
      "INFO:root:Запрос: {'full_name': 'Петрова'}\n",
      "127.0.0.1 - - [31/Mar/2025 22:26:29] \"POST / HTTP/1.1\" 200 -\n"
     ]
    }
   ],
   "source": [
    "from xmlrpc.server import SimpleXMLRPCServer\n",
    "from sqlalchemy import create_engine, func, text\n",
    "from sqlalchemy.orm import sessionmaker\n",
    "from sqlalchemy.dialects.postgresql import JSONB \n",
    "from models import Student, Base  \n",
    "import threading\n",
    "import logging\n",
    "\n",
    "\n",
    "engine = create_engine(f\"postgresql://{db_user}:{db_password}@{db_host}:{db_port}/{db_name}\")\n",
    "Session = sessionmaker(bind=engine)\n",
    "session = Session()\n",
    "\n",
    "logging.basicConfig(level=logging.INFO)\n",
    "# XML-RPC сервер\n",
    "\n",
    "server = SimpleXMLRPCServer((\"localhost\", 8000), allow_none=True)\n",
    "server_thread = threading.Thread(target=server.serve_forever)\n",
    "server_thread.daemon = True  # Сервер остановится при завершении основного потока\n",
    "server_thread.start()\n",
    "\n",
    "print(\"Сервер запущен на порту 8000 в фоновом режиме.\")\n",
    "\n",
    "def search_students(filters, sort_field=\"id\", sort_order=\"asc\", page=1, per_page=10):\n",
    "    session = Session()\n",
    "    logging.info(f\"Запрос: {filters}\")\n",
    "    try:\n",
    "        query = session.query(Student)\n",
    "        \n",
    "        # Фильтрация\n",
    "        if \"full_name\" in filters:\n",
    "            query = query.filter(\n",
    "                func.to_tsvector('russian', Student.full_name).op(\"@@\")(\n",
    "                    func.websearch_to_tsquery('russian', filters[\"full_name\"])\n",
    "                )\n",
    "            )\n",
    "        if \"age\" in filters:\n",
    "            query = query.filter(Student.age == filters[\"age\"])\n",
    "        if \"gender\" in filters:\n",
    "            query = query.filter(Student.gender == filters[\"gender\"])\n",
    "        if \"lecture_presence\" in filters:\n",
    "            query = query.filter(\n",
    "                Student.attendance.has_key(filters[\"lecture_presence\"][\"lecture\"])\n",
    "            ).filter(\n",
    "                Student.attendance[filters[\"lecture_presence\"][\"lecture\"]].astext == str(filters[\"lecture_presence\"][\"is_present\"])\n",
    "            )\n",
    "        \n",
    "        # Сортировка\n",
    "        if sort_order == \"desc\":\n",
    "            query = query.order_by(getattr(Student, sort_field).desc())\n",
    "        else:\n",
    "            query = query.order_by(getattr(Student, sort_field).asc())\n",
    "            \n",
    "        # Пагинация\n",
    "        total = query.count()\n",
    "        students = query.offset((page-1)*per_page).limit(per_page).all()\n",
    "        \n",
    "        # Результат\n",
    "        return {\n",
    "            \"data\": [\n",
    "                {\n",
    "                    \"id\": s.id,\n",
    "                    \"full_name\": s.full_name,\n",
    "                    \"age\": s.age,\n",
    "                    \"gender\": s.gender,\n",
    "                    \"attendance\": s.attendance,\n",
    "                    \"grades\": s.grades\n",
    "                } for s in students\n",
    "            ],\n",
    "            \"meta\": {\"page\": page, \"per_page\": per_page, \"total\": total}\n",
    "        }\n",
    "    except Exception as e:\n",
    "        logging.error(f\"Ошибка: {e}\")\n",
    "        raise\n",
    "\n",
    "    finally:\n",
    "        session.close()\n",
    "\n",
    "server.register_function(search_students, \"search_students\")\n",
    "\n",
    "if __name__ == \"__main__\":\n",
    "    server.serve_forever()\n",
    "\n",
    "    # код перенесен в файл server.py\n",
    "    # запускать в отдельном терминале \n",
    "   # python server.py\n",
    "   # lsof -i :8000  # проверка занятости порта\n",
    "   # kill -9 pid "
   ]
  },
  {
   "cell_type": "code",
   "execution_count": 8,
   "metadata": {},
   "outputs": [
    {
     "name": "stdout",
     "output_type": "stream",
     "text": [
      "{'data': [{'id': 2, 'full_name': 'Петрова Анна Сергеевна', 'age': 21, 'gender': 'женский', 'attendance': {'Лекция 1': True, 'Семинар 2': True}, 'grades': {'Базы данных': 5, 'Программирование': 5}}], 'meta': {'page': 1, 'per_page': 10, 'total': 1}}\n"
     ]
    }
   ],
   "source": [
    "# Тест подключения к серверу\n",
    "import xmlrpc.client\n",
    "proxy = xmlrpc.client.ServerProxy(\"http://localhost:8000/\")\n",
    "print(proxy.search_students({\"full_name\": \"Петрова\"}))"
   ]
  },
  {
   "cell_type": "code",
   "execution_count": 12,
   "metadata": {},
   "outputs": [
    {
     "name": "stdout",
     "output_type": "stream",
     "text": [
      "{'data': [{'id': 7, 'full_name': 'Федоров Денис Игоревич', 'age': 25, 'gender': 'мужской', 'attendance': {'Лекция 1': True, 'Семинар 2': True}, 'grades': {'Физика': 4, 'Информатика': 5}}, {'id': 5, 'full_name': 'Новиков Павел Сергеевич', 'age': 24, 'gender': 'мужской', 'attendance': {'Лекция 1': True, 'Семинар 2': False}, 'grades': {'Философия': 4, 'Экономика': 5}}, {'id': 1, 'full_name': 'Иванов Иван Иванович', 'age': 22, 'gender': 'мужской', 'attendance': {'Лекция 1': True, 'Семинар 2': False}, 'grades': {'Физика': 4, 'Математика': 5}}], 'meta': {'page': 1, 'per_page': 5, 'total': 3}}\n"
     ]
    }
   ],
   "source": [
    "proxy = xmlrpc.client.ServerProxy(\"http://localhost:8000/\")\n",
    "\n",
    "# Аргументы передаются позиционно: \n",
    "# (filters, sort_field, sort_order, page, per_page)\n",
    "try:\n",
    "    response = proxy.search_students(\n",
    "        {\n",
    "            \"gender\": \"мужской\",\n",
    "            \"lecture_presence\": {\"lecture\": \"Лекция 1\", \"is_present\": True}\n",
    "        },\n",
    "        \"age\",  # sort_field\n",
    "        \"desc\", # sort_order\n",
    "        1,      # page\n",
    "        5       # per_page\n",
    "    )\n",
    "\n",
    "    print(response)\n",
    "except xmlrpc.client.Fault as e:\n",
    "    print(f\"Ошибка сервера: {e}\")"
   ]
  },
  {
   "cell_type": "code",
   "execution_count": null,
   "metadata": {},
   "outputs": [
    {
     "name": "stdout",
     "output_type": "stream",
     "text": [
      "\u001b[H\u001b[2J\n",
      "Страница: 1 из 2 | Всего записей: 10\n",
      "\n",
      "👤 Студент 1:\n",
      "  ID: 7\n",
      "  ФИО: Федоров Денис Игоревич\n",
      "  Возраст: 25\n",
      "  Пол: мужской\n",
      "  Посещаемость:\n",
      "    - Лекция 1: Присутствовал\n",
      "    - Семинар 2: Присутствовал\n",
      "  Оценки:\n",
      "    - Физика: 4\n",
      "    - Информатика: 5\n",
      "----------------------------------------\n",
      "👤 Студент 2:\n",
      "  ID: 5\n",
      "  ФИО: Новиков Павел Сергеевич\n",
      "  Возраст: 24\n",
      "  Пол: мужской\n",
      "  Посещаемость:\n",
      "    - Лекция 1: Присутствовал\n",
      "    - Семинар 2: Отсутствовал\n",
      "  Оценки:\n",
      "    - Философия: 4\n",
      "    - Экономика: 5\n",
      "----------------------------------------\n",
      "👤 Студент 3:\n",
      "  ID: 3\n",
      "  ФИО: Сидоров Алексей Петрович\n",
      "  Возраст: 23\n",
      "  Пол: мужской\n",
      "  Посещаемость:\n",
      "    - Лекция 1: Отсутствовал\n",
      "    - Семинар 2: Присутствовал\n",
      "  Оценки:\n",
      "    - Химия: 3\n",
      "    - История: 4\n",
      "----------------------------------------\n",
      "👤 Студент 4:\n",
      "  ID: 1\n",
      "  ФИО: Иванов Иван Иванович\n",
      "  Возраст: 22\n",
      "  Пол: мужской\n",
      "  Посещаемость:\n",
      "    - Лекция 1: Присутствовал\n",
      "    - Семинар 2: Отсутствовал\n",
      "  Оценки:\n",
      "    - Физика: 4\n",
      "    - Математика: 5\n",
      "----------------------------------------\n",
      "👤 Студент 5:\n",
      "  ID: 8\n",
      "  ФИО: Васильева Мария Игоревна\n",
      "  Возраст: 22\n",
      "  Пол: женский\n",
      "  Посещаемость:\n",
      "    - Лекция 1: Присутствовал\n",
      "    - Семинар 2: Отсутствовал\n",
      "  Оценки:\n",
      "    - Математика: 5\n",
      "    - Программирование: 5\n",
      "----------------------------------------\n"
     ]
    }
   ],
   "source": [
    "## Добавлены переносы строк и команды для перехода по результатам, код вынесен для запуска из client.py\n",
    "\n",
    "import xmlrpc.client\n",
    "import os\n",
    "\n",
    "# Адрес XML-RPC сервера\n",
    "proxy = xmlrpc.client.ServerProxy(\"http://localhost:8000/\")\n",
    "\n",
    "# Настройки запроса\n",
    "filters = {\n",
    "   # \"gender\": \"мужской\",\n",
    "   # \"lecture_presence\": {\"lecture\": \"Лекция 1\", \"is_present\": True}\n",
    "}\n",
    "sort_field = \"age\"\n",
    "sort_order = \"desc\"\n",
    "per_page = 5\n",
    "\n",
    "\n",
    "def clear_terminal():\n",
    "    os.system(\"cls\" if os.name == \"nt\" else \"clear\")\n",
    "\n",
    "\n",
    "def print_students(response):\n",
    "    clear_terminal()\n",
    "    data = response[\"data\"]\n",
    "    meta = response[\"meta\"]\n",
    "    total_pages = ((meta[\"total\"] - 1) // meta[\"per_page\"]) + 1\n",
    "\n",
    "    print(f\"\\nСтраница: {meta['page']} из {total_pages} | Всего записей: {meta['total']}\\n\")\n",
    "\n",
    "    if not data:\n",
    "        print(\"Нет данных на этой странице.\")\n",
    "        return\n",
    "\n",
    "    start_index = (meta['page'] - 1) * meta['per_page'] + 1\n",
    "    for i, student in enumerate(data, start=start_index):\n",
    "        print(f\"Студент {i}:\")\n",
    "        print(f\"  ID: {student['id']}\")\n",
    "        print(f\"  ФИО: {student['full_name']}\")\n",
    "        print(f\"  Возраст: {student['age']}\")\n",
    "        print(f\"  Пол: {student['gender']}\")\n",
    "        print(\"  Посещаемость:\")\n",
    "        for lecture, present in student[\"attendance\"].items():\n",
    "            print(f\"    - {lecture}: {'Присутствовал' if present else 'Отсутствовал'}\")\n",
    "        print(\"  Оценки:\")\n",
    "        for subject, grade in student[\"grades\"].items():\n",
    "            print(f\"    - {subject}: {grade}\")\n",
    "        print(\"-\" * 40)\n",
    "\n",
    "\n",
    "def main():\n",
    "    page = 1\n",
    "    while True:\n",
    "        try:\n",
    "            response = proxy.search_students(filters, sort_field, sort_order, page, per_page)\n",
    "            print_students(response)\n",
    "        except xmlrpc.client.Fault as e:\n",
    "            print(f\"Ошибка сервера: {e}\")\n",
    "            break\n",
    "        except Exception as e:\n",
    "            print(f\"Ошибка: {e}\")\n",
    "            break\n",
    "\n",
    "        cmd = input(\"\\n[n] — следующая | [p] — предыдущая | [q] — выход: \").strip().lower()\n",
    "        if cmd == \"n\":\n",
    "            if page * per_page < response[\"meta\"][\"total\"]:\n",
    "                page += 1\n",
    "            else:\n",
    "                print(\"Это последняя страница.\")\n",
    "        elif cmd == \"p\":\n",
    "            if page > 1:\n",
    "                page -= 1\n",
    "            else:\n",
    "                print(\"Это первая страница.\")\n",
    "        elif cmd == \"q\":\n",
    "            print(\"Выход.\")\n",
    "            break\n",
    "        else:\n",
    "            print(\"Неверная команда.\")\n",
    "\n",
    "\n",
    "if __name__ == \"__main__\":\n",
    "    main()\n"
   ]
  },
  {
   "cell_type": "markdown",
   "metadata": {},
   "source": [
    "## Проверка производительности сервиса"
   ]
  },
  {
   "cell_type": "code",
   "execution_count": 1,
   "metadata": {},
   "outputs": [],
   "source": [
    "%%capture\n",
    "!pip install locust"
   ]
  },
  {
   "cell_type": "markdown",
   "metadata": {},
   "source": [
    "### Код для запуска тестирования с помощью сервиса locust вынесен в файл locust_test.py\n",
    "### Запуск из консоли:\n",
    "```\n",
    "locust -f locust_test.py\n",
    "```"
   ]
  },
  {
   "cell_type": "markdown",
   "metadata": {},
   "source": [
    "### Запуск под одним пользователем\n",
    "![locust1.png](./tasks_1-2/images/locust1.png \"1\")"
   ]
  },
  {
   "cell_type": "markdown",
   "metadata": {},
   "source": [
    "### Запуск под 10 пользователями\n",
    "![locust10.png](./tasks_1-2/images/locust10.png \"10\")"
   ]
  },
  {
   "cell_type": "markdown",
   "metadata": {},
   "source": [
    "### Документирование сервиса xml-rpc"
   ]
  },
  {
   "cell_type": "code",
   "execution_count": 5,
   "metadata": {},
   "outputs": [
    {
     "name": "stdout",
     "output_type": "stream",
     "text": [
      "Доступные методы: ['search_students', 'system.listMethods', 'system.methodHelp', 'system.methodSignature']\n",
      "\n",
      "Метод: search_students\n",
      "Сигнатура: signatures not supported\n",
      "Описание: Поиск студентов по фильтру.\n",
      "Параметры:\n",
      "- filter: dict (например, {\"gender\": \"мужской\"}),\n",
      "- sort_field: str (поле сортировки),\n",
      "- sort_order: str (\"asc\" или \"desc\"),\n",
      "- page: int (номер страницы),\n",
      "- per_page: int (количество на странице).\n",
      "\n",
      "Метод: system.listMethods\n",
      "Сигнатура: signatures not supported\n",
      "Описание: system.listMethods() => ['add', 'subtract', 'multiple']\n",
      "\n",
      "Returns a list of the methods supported by the server.\n",
      "\n",
      "Метод: system.methodHelp\n",
      "Сигнатура: signatures not supported\n",
      "Описание: system.methodHelp('add') => \"Adds two integers together\"\n",
      "\n",
      "Returns a string containing documentation for the specified method.\n",
      "\n",
      "Метод: system.methodSignature\n",
      "Сигнатура: signatures not supported\n",
      "Описание: system.methodSignature('add') => [double, int, int]\n",
      "\n",
      "Returns a list describing the signature of the method. In the\n",
      "above example, the add method takes two integers as arguments\n",
      "and returns a double result.\n",
      "\n",
      "This server does NOT support system.methodSignature.\n"
     ]
    }
   ],
   "source": [
    "import xmlrpc.client\n",
    "\n",
    "# Подключение к серверу\n",
    "proxy = xmlrpc.client.ServerProxy(\"http://localhost:8000/\")\n",
    "\n",
    "# Получение списка методов\n",
    "methods = proxy.system.listMethods()\n",
    "print(\"Доступные методы:\", methods)\n",
    "\n",
    "# Документирование каждого метода\n",
    "for method in methods:\n",
    "    try:\n",
    "        help_text = proxy.system.methodHelp(method)\n",
    "        signature = proxy.system.methodSignature(method)\n",
    "        print(f\"\\nМетод: {method}\")\n",
    "        print(f\"Сигнатура: {signature}\")\n",
    "        print(f\"Описание: {help_text}\")\n",
    "    except Exception as e:\n",
    "        print(f\"Ошибка для метода {method}: {e}\")"
   ]
  }
 ],
 "metadata": {
  "kernelspec": {
   "display_name": ".venv",
   "language": "python",
   "name": "python3"
  },
  "language_info": {
   "codemirror_mode": {
    "name": "ipython",
    "version": 3
   },
   "file_extension": ".py",
   "mimetype": "text/x-python",
   "name": "python",
   "nbconvert_exporter": "python",
   "pygments_lexer": "ipython3",
   "version": "3.11.4"
  }
 },
 "nbformat": 4,
 "nbformat_minor": 2
}
