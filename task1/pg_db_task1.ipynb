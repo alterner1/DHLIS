{
 "cells": [
  {
   "cell_type": "code",
   "execution_count": 2,
   "metadata": {},
   "outputs": [],
   "source": [
    "%%capture\n",
    "pip install psycopg2 openai ipython-sql python-dotenv"
   ]
  },
  {
   "cell_type": "code",
   "execution_count": 3,
   "metadata": {},
   "outputs": [
    {
     "name": "stdout",
     "output_type": "stream",
     "text": [
      "Строка подключения успешно создана (без пароля в выводе).\n"
     ]
    }
   ],
   "source": [
    "from dotenv import load_dotenv\n",
    "import os\n",
    "\n",
    "# Загрузка переменных окружения\n",
    "load_dotenv()\n",
    "\n",
    "# Получение значений из .env файла\n",
    "db_name = os.getenv(\"DB_NAME\")\n",
    "db_user = os.getenv(\"DB_USER\")\n",
    "db_password = os.getenv(\"DB_PASSWORD\")\n",
    "db_host = os.getenv(\"DB_HOST\")\n",
    "db_port = os.getenv(\"DB_PORT\")\n",
    "\n",
    "# Формирование строки подключения\n",
    "connection_string = f\"postgresql://{db_user}:{db_password}@{db_host}:{db_port}/{db_name}\"\n",
    "\n",
    "print(\"Строка подключения успешно создана (без пароля в выводе).\")\n"
   ]
  },
  {
   "cell_type": "code",
   "execution_count": 6,
   "metadata": {},
   "outputs": [],
   "source": [
    "import openai\n",
    "import psycopg2\n",
    "\n",
    "# Подключение к PostgreSQL\n",
    "conn = psycopg2.connect(connection_string)\n",
    "cursor = conn.cursor()\n",
    "\n",
    "# # Пример запроса к базе данных\n",
    "# cursor.execute(\"SELECT * FROM users;\")\n",
    "# users = cursor.fetchall()\n",
    "# for user in users:\n",
    "#     print(user)\n",
    "\n",
    "# Закрытие соединения\n",
    "cursor.close()\n",
    "conn.close()\n"
   ]
  },
  {
   "cell_type": "code",
   "execution_count": null,
   "metadata": {},
   "outputs": [],
   "source": [
    "# Создание таблицы users\n",
    "import psycopg2\n",
    "conn = psycopg2.connect(connection_string)\n",
    "cursor = conn.cursor()\n",
    "create_table_query = \"\"\"\n",
    "CREATE TABLE IF NOT EXISTS users (\n",
    "    id SERIAL PRIMARY KEY,\n",
    "    first_name VARCHAR(50) NOT NULL,\n",
    "    last_name VARCHAR(50) NOT NULL,\n",
    "    patronymic VARCHAR(50),\n",
    "    birth_year INT CHECK (birth_year BETWEEN 1900 AND 2100),\n",
    "    city VARCHAR(100),\n",
    "    role VARCHAR(10) CHECK (role IN ('student', 'teacher')) NOT NULL\n",
    ");\n",
    "\"\"\"\n",
    "\n",
    "# Выполнение SQL-запроса\n",
    "try:\n",
    "    cursor.execute(create_table_query)\n",
    "    conn.commit()\n",
    "    print(\"Таблица 'users' успешно создана.\")\n",
    "except Exception as e:\n",
    "    print(f\"Ошибка выполнения запроса: {e}\")\n",
    "\n",
    "# # Проверка структуры таблицы\n",
    "# try:\n",
    "#     cursor.execute(\"SELECT column_name, data_type FROM information_schema.columns WHERE table_name = 'users';\")\n",
    "#     columns = cursor.fetchall()\n",
    "#     print(\"Структура таблицы 'users':\")\n",
    "#     for column in columns:\n",
    "#         print(column)\n",
    "# except Exception as e:\n",
    "#     print(f\"Ошибка выполнения запроса: {e}\")\n",
    "    \n",
    "cursor.close()\n",
    "conn.close()"
   ]
  },
  {
   "cell_type": "markdown",
   "metadata": {},
   "source": [
    "Таблица 'users' успешно создана.\n",
    "Структура таблицы 'users':\n",
    "('id', 'integer')\n",
    "('birth_year', 'integer')\n",
    "('last_name', 'character varying')\n",
    "('city', 'character varying')\n",
    "('role', 'character varying')\n",
    "('patronymic', 'character varying')\n",
    "('first_name', 'character varying')"
   ]
  },
  {
   "cell_type": "code",
   "execution_count": null,
   "metadata": {},
   "outputs": [],
   "source": [
    "import psycopg2\n",
    "conn = psycopg2.connect(connection_string)\n",
    "cursor = conn.cursor()\n",
    "create_tables_query = \"\"\"\n",
    "CREATE TABLE disciplines (\n",
    "    id SERIAL PRIMARY KEY,\n",
    "    name VARCHAR(100) NOT NULL,\n",
    "    description TEXT\n",
    ");\n",
    "\n",
    "-- Таблица расписания занятий\n",
    "CREATE TABLE sessions (\n",
    "    id SERIAL PRIMARY KEY,\n",
    "    discipline_id INT REFERENCES disciplines(id),\n",
    "    type VARCHAR(20) CHECK (type IN ('lecture', 'seminar', 'exam')) NOT NULL,\n",
    "    speaker_id INT REFERENCES users(id),\n",
    "    start_time TIMESTAMP NOT NULL,\n",
    "    end_time TIMESTAMP NOT NULL,\n",
    "    system VARCHAR(50),\n",
    "    room_id BIGINT\n",
    ");\n",
    "\n",
    "-- Таблица связей студентов с занятиями\n",
    "CREATE TABLE students_sessions (\n",
    "    id SERIAL PRIMARY KEY,\n",
    "    student_id INT REFERENCES users(id),\n",
    "    session_id INT REFERENCES sessions(id)\n",
    ");\n",
    "\n",
    "-- Таблица видеозаписей\n",
    "CREATE TABLE videos (\n",
    "    id SERIAL PRIMARY KEY,\n",
    "    session_id INT REFERENCES sessions(id),\n",
    "    file_path VARCHAR(255) NOT NULL,\n",
    "    upload_date TIMESTAMP DEFAULT CURRENT_TIMESTAMP\n",
    ");\n",
    "\n",
    "-- Таблица аннотаций видеозаписей\n",
    "CREATE TABLE video_annotations (\n",
    "    id SERIAL PRIMARY KEY,\n",
    "    video_id INT REFERENCES videos(id),\n",
    "    timestamp INTERVAL NOT NULL,\n",
    "    content TEXT\n",
    ");\n",
    "\n",
    "-- Таблица раздаточных материалов\n",
    "CREATE TABLE materials (\n",
    "    id SERIAL PRIMARY KEY,\n",
    "    session_id INT REFERENCES sessions(id),\n",
    "    file_path VARCHAR(255) NOT NULL,\n",
    "    upload_date TIMESTAMP DEFAULT CURRENT_TIMESTAMP\n",
    ");\n",
    "\n",
    "-- Таблица аннотаций материалов\n",
    "CREATE TABLE material_annotations (\n",
    "    id SERIAL PRIMARY KEY,\n",
    "    material_id INT REFERENCES materials(id),\n",
    "    page_number INT NOT NULL,\n",
    "    content TEXT\n",
    ");\n",
    "\"\"\"\n",
    "# Выполнение SQL-запроса\n",
    "try:\n",
    "    cursor.execute(create_tables_query)\n",
    "    conn.commit()\n",
    "    print(\"Таблицы успешно созданы.\")\n",
    "except Exception as e:\n",
    "    print(f\"Ошибка выполнения запроса: {e}\")\n",
    "\n",
    "cursor.close()\n",
    "conn.close()"
   ]
  },
  {
   "cell_type": "code",
   "execution_count": 8,
   "metadata": {},
   "outputs": [
    {
     "name": "stdout",
     "output_type": "stream",
     "text": [
      "Данные успешно добавлены.\n"
     ]
    }
   ],
   "source": [
    "\n",
    "import psycopg2\n",
    "conn = psycopg2.connect(connection_string)\n",
    "cursor = conn.cursor()\n",
    "# Добавление данных в таблицы users, disciplines, sessions\n",
    "insert_query = \"\"\"\n",
    "-- Наполнение таблицы users\n",
    "INSERT INTO users (first_name, last_name, patronymic, birth_year, city, role) VALUES\n",
    "('Иван', 'Иванов', 'Иванович', 1998, 'Москва', 'student'),\n",
    "('Петр', 'Петров', 'Петрович', 1985, 'Саранск', 'student'),\n",
    "('Игорь', 'Павлов', 'Алексеевич', 1975, 'Москва', 'teacher'),\n",
    "('Семен', 'Аристархов', 'Павлович', 1980, 'Санкт-Петербург', 'teacher'),\n",
    "('Иван', 'Иванов', 'Иванович', 1970, 'Новосибирск', 'teacher');\n",
    "\n",
    "-- Наполнение таблицы disciplines\n",
    "INSERT INTO disciplines (name, description) VALUES\n",
    "('Машинное обучение', 'Курс по основам машинного обучения'),\n",
    "('Проектирование ИС', 'Курс по проектированию информационных систем'),\n",
    "('Системы ERP', 'Курс по основам ERP-систем');\n",
    "\n",
    "-- Наполнение таблицы sessions\n",
    "INSERT INTO sessions (discipline_id, type, speaker_id, start_time, end_time, system, room_id) VALUES\n",
    "(1, 'lecture', 3, '2024-04-11 14:00', '2024-04-11 17:00', 'zoom', 230340930),\n",
    "(2, 'lecture', 4, '2024-04-12 19:00', '2024-04-12 20:40', 'zoom', 236740930),\n",
    "(3, 'exam', 5, '2024-04-13 18:00', '2024-04-13 21:00', 'zoom', 230340930);\n",
    "\"\"\"\n",
    "# Выполнение SQL-запроса\n",
    "try:\n",
    "    cursor.execute(insert_query)\n",
    "    conn.commit()\n",
    "    print(\"Данные успешно добавлены.\")\n",
    "except Exception as e:\n",
    "    print(f\"Ошибка выполнения запроса: {e}\")\n"
   ]
  },
  {
   "cell_type": "code",
   "execution_count": 9,
   "metadata": {},
   "outputs": [
    {
     "data": {
      "text/plain": [
       "[(1, 'Иван', 'Иванов', 'Иванович', 1998, 'Москва', 'student'),\n",
       " (2, 'Петр', 'Петров', 'Петрович', 1985, 'Саранск', 'student'),\n",
       " (3, 'Игорь', 'Павлов', 'Алексеевич', 1975, 'Москва', 'teacher'),\n",
       " (4, 'Семен', 'Аристархов', 'Павлович', 1980, 'Санкт-Петербург', 'teacher'),\n",
       " (5, 'Иван', 'Иванов', 'Иванович', 1970, 'Новосибирск', 'teacher')]"
      ]
     },
     "metadata": {},
     "output_type": "display_data"
    },
    {
     "name": "stdout",
     "output_type": "stream",
     "text": [
      "CPU times: user 4.46 ms, sys: 1.63 ms, total: 6.09 ms\n",
      "Wall time: 5.58 ms\n"
     ]
    }
   ],
   "source": [
    "%%time\n",
    "cursor.execute(\"SELECT * FROM users;\")\n",
    "rows = cursor.fetchall()\n",
    "display(rows)\n"
   ]
  },
  {
   "cell_type": "code",
   "execution_count": 17,
   "metadata": {},
   "outputs": [
    {
     "name": "stdout",
     "output_type": "stream",
     "text": [
      "Данные успешно добавлены.\n"
     ]
    }
   ],
   "source": [
    "\n",
    "# Добавление данных в таблицы students_sessions, videos, video_annotations, materials,material_annotations\n",
    "insert_query = \"\"\"\n",
    "-- Наполнение таблицы students_sessions\n",
    "INSERT INTO students_sessions (student_id, session_id) VALUES\n",
    "(1, 1),\n",
    "(2, 1),\n",
    "(1, 2),\n",
    "(2, 3);\n",
    "\n",
    "-- Наполнение таблицы videos\n",
    "INSERT INTO videos (session_id, file_path) VALUES\n",
    "(1, '/videos/ml_lecture_20240411.mp4'),\n",
    "(2, '/videos/is_lecture_20240412.mp4'),\n",
    "(3, '/videos/erp_exam_20240413.mp4');\n",
    "\n",
    "-- Наполнение таблицы video_annotations\n",
    "INSERT INTO video_annotations (video_id, timestamp, content) VALUES\n",
    "(1, '00:15:00', 'Обсуждение алгоритма регрессии'),\n",
    "(2, '00:05:00', 'Введение в проектирование ИС'),\n",
    "(3, '00:30:00', 'Обсуждение основ ERP-систем');\n",
    "\n",
    "-- Наполнение таблицы materials\n",
    "INSERT INTO materials (session_id, file_path) VALUES\n",
    "(1, '/materials/ml_slides.pdf'),\n",
    "(2, '/materials/is_slides.pdf'),\n",
    "(3, '/materials/erp_slides.pdf');\n",
    "\n",
    "-- Наполнение таблицы material_annotations\n",
    "INSERT INTO material_annotations (material_id, page_number, content) VALUES\n",
    "(1, 5, 'Пример линейной регрессии'),\n",
    "(2, 3, 'Диаграмма классов'),\n",
    "(3, 7, 'Модуль управления финансами');\n",
    "\"\"\"\n",
    "# Выполнение SQL-запроса\n",
    "try:\n",
    "    cursor.execute(insert_query)\n",
    "    conn.commit()\n",
    "    print(\"Данные успешно добавлены.\")\n",
    "except Exception as e:\n",
    "    print(f\"Ошибка выполнения запроса: {e}\")\n"
   ]
  },
  {
   "cell_type": "code",
   "execution_count": 4,
   "metadata": {},
   "outputs": [
    {
     "data": {
      "text/plain": [
       "[(2,\n",
       "  2,\n",
       "  'lecture',\n",
       "  4,\n",
       "  datetime.datetime(2024, 4, 12, 19, 0),\n",
       "  datetime.datetime(2024, 4, 12, 20, 40),\n",
       "  'zoom',\n",
       "  236740930)]"
      ]
     },
     "metadata": {},
     "output_type": "display_data"
    },
    {
     "data": {
      "text/plain": [
       "<connection object at 0x1116478b0; dsn: 'user=Pavel password=xxx dbname=LCMS_DB host=localhost port=5432', closed: 0>"
      ]
     },
     "execution_count": 4,
     "metadata": {},
     "output_type": "execute_result"
    }
   ],
   "source": [
    "\n",
    "import psycopg2\n",
    "conn = psycopg2.connect(connection_string)\n",
    "cursor = conn.cursor()\n",
    "# Запрос 1: Все лекции, которые начинаются через 5 минут\n",
    "cursor.execute(\"SELECT * FROM sessions WHERE type = 'lecture' AND start_time BETWEEN '2024-04-12 18:55' AND NOW() + INTERVAL '5 minutes';\")\n",
    "#(\"SELECT * FROM sessions WHERE type = 'lecture' AND start_time BETWEEN NOW() AND NOW() + INTERVAL '5 minutes';\")\n",
    "rows = cursor.fetchall()\n",
    "display(rows)\n",
    "conn\n"
   ]
  },
  {
   "cell_type": "code",
   "execution_count": 5,
   "metadata": {},
   "outputs": [
    {
     "data": {
      "text/plain": [
       "[(1,\n",
       "  1,\n",
       "  'lecture',\n",
       "  3,\n",
       "  datetime.datetime(2024, 4, 11, 14, 0),\n",
       "  datetime.datetime(2024, 4, 11, 17, 0),\n",
       "  'zoom',\n",
       "  230340930),\n",
       " (2,\n",
       "  2,\n",
       "  'lecture',\n",
       "  4,\n",
       "  datetime.datetime(2024, 4, 12, 19, 0),\n",
       "  datetime.datetime(2024, 4, 12, 20, 40),\n",
       "  'zoom',\n",
       "  236740930)]"
      ]
     },
     "metadata": {},
     "output_type": "display_data"
    }
   ],
   "source": [
    "# Запрос 2: Расписание 1 курса на следующую неделю\n",
    "#import psycopg2\n",
    "conn = psycopg2.connect(connection_string)\n",
    "cursor = conn.cursor()\n",
    "cursor.execute(\"SELECT s.* FROM sessions s \\\n",
    "              JOIN students_sessions ss ON s.id = ss.session_id \\\n",
    "              JOIN users u ON ss.student_id = u.id \\\n",
    "              WHERE u.role = 'student' AND u.id = 1 \\\n",
    "              AND start_time BETWEEN NOW() - INTERVAL '1 year' AND NOW() + INTERVAL '2 weeks';\")\n",
    "rows = cursor.fetchall()\n",
    "display(rows)\n",
    "cursor.close()\n",
    "conn.commit()\n",
    "conn.close()"
   ]
  },
  {
   "cell_type": "code",
   "execution_count": null,
   "metadata": {},
   "outputs": [],
   "source": []
  }
 ],
 "metadata": {
  "kernelspec": {
   "display_name": ".venv",
   "language": "python",
   "name": "python3"
  },
  "language_info": {
   "codemirror_mode": {
    "name": "ipython",
    "version": 3
   },
   "file_extension": ".py",
   "mimetype": "text/x-python",
   "name": "python",
   "nbconvert_exporter": "python",
   "pygments_lexer": "ipython3",
   "version": "3.11.4"
  }
 },
 "nbformat": 4,
 "nbformat_minor": 2
}
